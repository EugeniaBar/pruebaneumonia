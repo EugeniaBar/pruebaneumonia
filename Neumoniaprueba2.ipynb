{
 "cells": [
  {
   "cell_type": "code",
   "execution_count": 22,
   "id": "4de272e5-fcb5-4307-a477-a90260bed158",
   "metadata": {},
   "outputs": [
    {
     "name": "stdout",
     "output_type": "stream",
     "text": [
      "Versión de TensorFlow: 2.10.0\n"
     ]
    }
   ],
   "source": [
    "import tensorflow as tf\n",
    "print(\"Versión de TensorFlow:\", tf.__version__)"
   ]
  },
  {
   "cell_type": "code",
   "execution_count": 23,
   "id": "3ef5064a-94cb-4035-8e1f-8580cb8355cb",
   "metadata": {},
   "outputs": [
    {
     "name": "stdout",
     "output_type": "stream",
     "text": [
      "Requirement already satisfied: scikit-learn in /home/variante/miniconda3/envs/tf_keras/lib/python3.9/site-packages (1.6.1)\n",
      "Requirement already satisfied: matplotlib in /home/variante/miniconda3/envs/tf_keras/lib/python3.9/site-packages (3.9.4)\n",
      "Requirement already satisfied: numpy>=1.19.5 in /home/variante/miniconda3/envs/tf_keras/lib/python3.9/site-packages (from scikit-learn) (1.26.4)\n",
      "Requirement already satisfied: scipy>=1.6.0 in /home/variante/miniconda3/envs/tf_keras/lib/python3.9/site-packages (from scikit-learn) (1.13.1)\n",
      "Requirement already satisfied: joblib>=1.2.0 in /home/variante/miniconda3/envs/tf_keras/lib/python3.9/site-packages (from scikit-learn) (1.5.0)\n",
      "Requirement already satisfied: threadpoolctl>=3.1.0 in /home/variante/miniconda3/envs/tf_keras/lib/python3.9/site-packages (from scikit-learn) (3.6.0)\n",
      "Requirement already satisfied: contourpy>=1.0.1 in /home/variante/miniconda3/envs/tf_keras/lib/python3.9/site-packages (from matplotlib) (1.3.0)\n",
      "Requirement already satisfied: cycler>=0.10 in /home/variante/miniconda3/envs/tf_keras/lib/python3.9/site-packages (from matplotlib) (0.12.1)\n",
      "Requirement already satisfied: fonttools>=4.22.0 in /home/variante/miniconda3/envs/tf_keras/lib/python3.9/site-packages (from matplotlib) (4.58.0)\n",
      "Requirement already satisfied: kiwisolver>=1.3.1 in /home/variante/miniconda3/envs/tf_keras/lib/python3.9/site-packages (from matplotlib) (1.4.7)\n",
      "Requirement already satisfied: packaging>=20.0 in /home/variante/miniconda3/envs/tf_keras/lib/python3.9/site-packages (from matplotlib) (24.2)\n",
      "Requirement already satisfied: pillow>=8 in /home/variante/miniconda3/envs/tf_keras/lib/python3.9/site-packages (from matplotlib) (11.2.1)\n",
      "Requirement already satisfied: pyparsing>=2.3.1 in /home/variante/miniconda3/envs/tf_keras/lib/python3.9/site-packages (from matplotlib) (3.2.3)\n",
      "Requirement already satisfied: python-dateutil>=2.7 in /home/variante/miniconda3/envs/tf_keras/lib/python3.9/site-packages (from matplotlib) (2.9.0.post0)\n",
      "Requirement already satisfied: importlib-resources>=3.2.0 in /home/variante/miniconda3/envs/tf_keras/lib/python3.9/site-packages (from matplotlib) (6.5.2)\n",
      "Requirement already satisfied: zipp>=3.1.0 in /home/variante/miniconda3/envs/tf_keras/lib/python3.9/site-packages (from importlib-resources>=3.2.0->matplotlib) (3.21.0)\n",
      "Requirement already satisfied: six>=1.5 in /home/variante/miniconda3/envs/tf_keras/lib/python3.9/site-packages (from python-dateutil>=2.7->matplotlib) (1.17.0)\n"
     ]
    }
   ],
   "source": [
    "#Esto instalará las librerías en tu entorno actual (tf_keras).luego reiniciar kernel\n",
    "import sys\n",
    "!{sys.executable} -m pip install scikit-learn matplotlib"
   ]
  },
  {
   "cell_type": "code",
   "execution_count": 1,
   "id": "b5ace63d-abcc-4499-8167-34bcebe2ee02",
   "metadata": {},
   "outputs": [
    {
     "name": "stdout",
     "output_type": "stream",
     "text": [
      "Requirement already satisfied: matplotlib in /home/variante/miniconda3/envs/tf_keras/lib/python3.9/site-packages (3.9.4)\n",
      "Requirement already satisfied: contourpy>=1.0.1 in /home/variante/miniconda3/envs/tf_keras/lib/python3.9/site-packages (from matplotlib) (1.3.0)\n",
      "Requirement already satisfied: cycler>=0.10 in /home/variante/miniconda3/envs/tf_keras/lib/python3.9/site-packages (from matplotlib) (0.12.1)\n",
      "Requirement already satisfied: fonttools>=4.22.0 in /home/variante/miniconda3/envs/tf_keras/lib/python3.9/site-packages (from matplotlib) (4.58.0)\n",
      "Requirement already satisfied: kiwisolver>=1.3.1 in /home/variante/miniconda3/envs/tf_keras/lib/python3.9/site-packages (from matplotlib) (1.4.7)\n",
      "Requirement already satisfied: numpy>=1.23 in /home/variante/miniconda3/envs/tf_keras/lib/python3.9/site-packages (from matplotlib) (1.26.4)\n",
      "Requirement already satisfied: packaging>=20.0 in /home/variante/miniconda3/envs/tf_keras/lib/python3.9/site-packages (from matplotlib) (24.2)\n",
      "Requirement already satisfied: pillow>=8 in /home/variante/miniconda3/envs/tf_keras/lib/python3.9/site-packages (from matplotlib) (11.2.1)\n",
      "Requirement already satisfied: pyparsing>=2.3.1 in /home/variante/miniconda3/envs/tf_keras/lib/python3.9/site-packages (from matplotlib) (3.2.3)\n",
      "Requirement already satisfied: python-dateutil>=2.7 in /home/variante/miniconda3/envs/tf_keras/lib/python3.9/site-packages (from matplotlib) (2.9.0.post0)\n",
      "Requirement already satisfied: importlib-resources>=3.2.0 in /home/variante/miniconda3/envs/tf_keras/lib/python3.9/site-packages (from matplotlib) (6.5.2)\n",
      "Requirement already satisfied: zipp>=3.1.0 in /home/variante/miniconda3/envs/tf_keras/lib/python3.9/site-packages (from importlib-resources>=3.2.0->matplotlib) (3.21.0)\n",
      "Requirement already satisfied: six>=1.5 in /home/variante/miniconda3/envs/tf_keras/lib/python3.9/site-packages (from python-dateutil>=2.7->matplotlib) (1.17.0)\n"
     ]
    }
   ],
   "source": [
    "!pip install matplotlib"
   ]
  },
  {
   "cell_type": "code",
   "execution_count": 2,
   "id": "030b86ea-b6ad-4fd2-9c00-5fbb9d39d500",
   "metadata": {},
   "outputs": [],
   "source": [
    "import os\n",
    "os.environ['TF_CPP_MIN_LOG_LEVEL'] = '2'  # Oculta avisos de CPU (pero muestra errores reales)\n",
    "import tensorflow as tf"
   ]
  },
  {
   "cell_type": "code",
   "execution_count": 3,
   "id": "1fb93def-5c10-4687-b6cc-cf0997a70757",
   "metadata": {},
   "outputs": [],
   "source": [
    "import tensorflow as tf\n",
    "from tensorflow.keras.models import Sequential, load_model\n",
    "from tensorflow.keras.layers import Conv2D, MaxPooling2D, Flatten, Dense, Dropout, BatchNormalization\n",
    "from tensorflow.keras.preprocessing.image import ImageDataGenerator\n",
    "from tensorflow.keras.utils import load_img, img_to_array\n",
    "import numpy as np\n",
    "from sklearn.metrics import classification_report, confusion_matrix\n",
    "import matplotlib.pyplot as plt\n",
    "\n",
    "import tensorflow as tf\n",
    "from tensorflow.keras.callbacks import Callback\n"
   ]
  },
  {
   "cell_type": "markdown",
   "id": "ae9af17a-7e99-4479-bf55-7edeaaf2bb43",
   "metadata": {},
   "source": [
    "### Explicaciòn de paràmetros\n",
    "##### - Ajustar el batch_size \n",
    "puede afectar tanto el rendimiento como el uso de memoria: Valores más grandes pueden hacer el entrenamiento más rápido pero requieren más RAM y valores pequeños pueden hacer que el entrenamiento sea más estable pero más lento.\n",
    "##### - Ajustar epochs\n",
    "significa que el modelo pasará por todo el conjunto de datos de entrenamiento 20 veces. Más épocas pueden mejorar la precisión, pero también aumentar el riesgo de sobreajuste y menos épocas pueden resultar en un modelo subentrenado."
   ]
  },
  {
   "cell_type": "code",
   "execution_count": 4,
   "id": "20c92f46-1374-441a-85dc-f785a4579eb0",
   "metadata": {},
   "outputs": [
    {
     "name": "stdout",
     "output_type": "stream",
     "text": [
      "\n",
      "Contando imágenes en los conjuntos de datos:\n",
      "\n",
      "Conjunto de entrenamiento:\n",
      "Carpeta: train/NORMAL - Imágenes: 1072\n",
      "Carpeta: train/PNEUMONIA - Imágenes: 3100\n",
      "\n",
      "Conjunto de validación:\n",
      "Carpeta: val/NORMAL - Imágenes: 277\n",
      "Carpeta: val/PNEUMONIA - Imágenes: 783\n",
      "\n",
      "Conjunto de prueba:\n",
      "Carpeta: test/NORMAL - Imágenes: 234\n",
      "Carpeta: test/PNEUMONIA - Imágenes: 390\n"
     ]
    }
   ],
   "source": [
    "from tensorflow.keras.preprocessing.image import ImageDataGenerator\n",
    "import os\n",
    "import shutil\n",
    "from sklearn.model_selection import train_test_split\n",
    "\n",
    "# Función para contar imágenes en una carpeta\n",
    "def contar_imagenes(ruta_base):\n",
    "    carpetas = ['NORMAL', 'PNEUMONIA']\n",
    "    for carpeta in carpetas:\n",
    "        ruta_completa = os.path.join(ruta_base, carpeta)\n",
    "        num_imagenes = len(os.listdir(ruta_completa))\n",
    "        print(f'Carpeta: {os.path.basename(ruta_base)}/{carpeta} - Imágenes: {num_imagenes}')\n",
    "\n",
    "# Parámetros (ajusta según necesites)\n",
    "img_width, img_height = 224, 224 # ajusta El tamaño de las imágenes (224x224).\n",
    "batch_size = 32 #significa que el modelo tomará bloques de 32 imágenes de entrenamiento a la vez para calcular el gradiente y actualizar los pesos.\n",
    "epochs = 15 #veces que el modelo recorrerá todo el conjunto de entrenamiento\n",
    "\n",
    "# Rutas\n",
    "base_path = '/home/variante/ProyectosPython/Proyecto_Neumonia/data/chest_xray'\n",
    "train_dir = f'{base_path}/train'\n",
    "val_dir = f'{base_path}/val'\n",
    "test_dir = f'{base_path}/test'  \n",
    "\n",
    "# Contar imágenes antes de continuar\n",
    "print(\"\\nContando imágenes en los conjuntos de datos:\")\n",
    "print(\"\\nConjunto de entrenamiento:\")\n",
    "contar_imagenes(train_dir)\n",
    "print(\"\\nConjunto de validación:\")\n",
    "contar_imagenes(val_dir)\n",
    "print(\"\\nConjunto de prueba:\")\n",
    "contar_imagenes(test_dir)\n",
    "\n"
   ]
  },
  {
   "cell_type": "markdown",
   "id": "fe8fe521-ee13-457a-a234-61be275b378e",
   "metadata": {},
   "source": [
    " #### imágenes corruptas o anómalas\n"
   ]
  },
  {
   "cell_type": "code",
   "execution_count": 5,
   "id": "80df2320-9248-4023-a871-a06c2c745a01",
   "metadata": {},
   "outputs": [
    {
     "name": "stdout",
     "output_type": "stream",
     "text": [
      "\n",
      "Verificando imágenes en el conjunto de entrenamiento:\n",
      "En train: Imágenes corruptas = 0, Tamaños anómalos = 4172\n",
      "\n",
      "Verificando imágenes en el conjunto de validación:\n",
      "En val: Imágenes corruptas = 0, Tamaños anómalos = 1060\n",
      "\n",
      "Verificando imágenes en el conjunto de prueba:\n",
      "En test: Imágenes corruptas = 0, Tamaños anómalos = 624\n"
     ]
    }
   ],
   "source": [
    "from PIL import Image\n",
    "\n",
    "def verificar_imagenes(ruta_base):\n",
    "    carpetas = ['NORMAL', 'PNEUMONIA']\n",
    "    num_corruptas = 0\n",
    "    num_tamanios_anomalos = 0\n",
    "\n",
    "    for carpeta in carpetas:\n",
    "        ruta_carpeta = os.path.join(ruta_base, carpeta)\n",
    "        for archivo in os.listdir(ruta_carpeta):\n",
    "            ruta_archivo = os.path.join(ruta_carpeta, archivo)\n",
    "            try:\n",
    "                img = Image.open(ruta_archivo)\n",
    "                img.verify()\n",
    "                img = Image.open(ruta_archivo)\n",
    "                if img.size != (img_width, img_height):\n",
    "                    num_tamanios_anomalos += 1\n",
    "            except (IOError, SyntaxError) as e:\n",
    "                num_corruptas += 1\n",
    "\n",
    "    print(f'En {os.path.basename(ruta_base)}: Imágenes corruptas = {num_corruptas}, Tamaños anómalos = {num_tamanios_anomalos}')\n",
    "\n",
    "# Ejecución\n",
    "print(\"\\nVerificando imágenes en el conjunto de entrenamiento:\")\n",
    "verificar_imagenes(train_dir)\n",
    "\n",
    "print(\"\\nVerificando imágenes en el conjunto de validación:\")\n",
    "verificar_imagenes(val_dir)\n",
    "\n",
    "print(\"\\nVerificando imágenes en el conjunto de prueba:\")\n",
    "verificar_imagenes(test_dir)\n",
    "\n",
    "#aunque los tamaños sean anomalos se ajustaran para el entrenamiento por el anterior bloque img_width, img_height = 224, 224 y target size abajo"
   ]
  },
  {
   "cell_type": "markdown",
   "id": "797f0ea8-c1f2-4988-bd28-6b97ac9eb25c",
   "metadata": {},
   "source": [
    "#### Normalizar\n",
    "train_datagen, val_datagen, y test_datagen → normalizan los píxeles a [0, 1] con rescale=1./255.\n",
    "\n",
    "train_generator, val_generator, y test_generator → generan imágenes normalizadas desde las carpetas."
   ]
  },
  {
   "cell_type": "code",
   "execution_count": 6,
   "id": "3106eb84-6b3c-4e5c-b1f5-e73d2770f425",
   "metadata": {},
   "outputs": [
    {
     "name": "stdout",
     "output_type": "stream",
     "text": [
      "Found 4172 images belonging to 2 classes.\n",
      "Found 1060 images belonging to 2 classes.\n",
      "Found 624 images belonging to 2 classes.\n"
     ]
    }
   ],
   "source": [
    "# Normalización de imágenes\n",
    "# ------------------------------\n",
    "# Esta sección normaliza los valores de píxeles de las imágenes (de 0–255 a 0–1)\n",
    "# para que la red neuronal pueda aprender mejor\n",
    "\n",
    "train_datagen = ImageDataGenerator(rescale=1./255)\n",
    "val_datagen = ImageDataGenerator(rescale=1./255)\n",
    "test_datagen = ImageDataGenerator(rescale=1./255)\n",
    "\n",
    "# Generadores que aplican la normalización al cargar las imágenes\n",
    "train_generator = train_datagen.flow_from_directory(\n",
    "    train_dir,\n",
    "    target_size=(img_width, img_height),\n",
    "    batch_size=batch_size,\n",
    "    class_mode='binary'\n",
    ")\n",
    "\n",
    "val_generator = val_datagen.flow_from_directory(\n",
    "    val_dir,\n",
    "    target_size=(img_width, img_height),\n",
    "    batch_size=batch_size,\n",
    "    class_mode='binary'\n",
    ")\n",
    "\n",
    "test_generator = test_datagen.flow_from_directory(\n",
    "    test_dir,\n",
    "    target_size=(img_width, img_height),\n",
    "    batch_size=batch_size,\n",
    "    class_mode='binary',\n",
    "    shuffle=False  # Para mantener el orden al evaluar\n",
    ")"
   ]
  },
  {
   "cell_type": "markdown",
   "id": "cbc2ae4b-730b-4482-8e08-e1beccd38008",
   "metadata": {},
   "source": [
    "### Generadores de Imágenes\n",
    "Las imágenes crudas (las originales) no siempre son suficientes para entrenar bien una red neuronal. Para mejorar la precisión y evitar que el modelo se quede \"pegado\" a ciertos patrones, hacemos un par de trucos con las imágenes:\n",
    "\n",
    "##### Escalado\n",
    "Convertimos los valores de píxeles (que van de 0 a 255) a un rango entre 0 y 1. Esto lo hacemos dividiendo cada valor de píxel por 255.\n",
    "Sirve para que el modelo trabaje mejor con los datos.\n",
    "##### Aumentación de Datos (Data Augmentation)\n",
    "Generamos imágenes ligeramente diferentes a partir de las originales.\n",
    "\n",
    "##### ¿Cómo lo hacemos? Aplicando transformaciones aleatorias:\n",
    "- Rotación: Giramos la imagen hasta 20 grados.\n",
    "- Desplazamiento horizontal y vertical: Movemos la imagen un 20% en ambas direcciones.\n",
    "- Cizallamiento: Deformamos la imagen en ángulo.\n",
    "- Zoom: Acercamos o alejamos la imagen.\n",
    "- Reflejo horizontal: Volteamos la imagen de izquierda a derecha.\n",
    "Esto ayuda a que el modelo sea más robusto, evitando que aprenda solo de imágenes en una posición específica."
   ]
  },
  {
   "cell_type": "code",
   "execution_count": 7,
   "id": "8d1865b7-055b-49a4-822d-492e04c37431",
   "metadata": {},
   "outputs": [
    {
     "name": "stdout",
     "output_type": "stream",
     "text": [
      "Found 4172 images belonging to 2 classes.\n",
      "Found 1060 images belonging to 2 classes.\n"
     ]
    }
   ],
   "source": [
    "# Generadores de imágenes\n",
    "\n",
    "# DATA AUGMENTATION  \n",
    "train_datagen = ImageDataGenerator(\n",
    "    rescale=1./255,             # Normaliza valores a 0–1\n",
    "    rotation_range=20,          # Rota imágenes al azar (hasta ±20°)\n",
    "    width_shift_range=0.2,      # Desplaza horizontal\n",
    "    height_shift_range=0.2,     # Desplaza vertical\n",
    "    shear_range=0.2,            # Deforma la imagen diagonalmente\n",
    "    zoom_range=0.2,             # Aplica zoom aleatorio\n",
    "    horizontal_flip=True        # Voltea horizontalmente\n",
    ")\n",
    "\n",
    "\n",
    "val_datagen = ImageDataGenerator(rescale=1./255)\n",
    "\n",
    "train_generator = train_datagen.flow_from_directory(\n",
    "     '/home/variante/ProyectosPython/Proyecto_Neumonia/data/chest_xray/train',\n",
    "    target_size=(img_width, img_height),\n",
    "    batch_size=batch_size,\n",
    "    class_mode='binary' #  el tipo de salida (binario), \n",
    ")\n",
    "\n",
    "val_generator = val_datagen.flow_from_directory(\n",
    "     '/home/variante/ProyectosPython/Proyecto_Neumonia/data/chest_xray/val',\n",
    "    target_size=(img_width, img_height),\n",
    "    batch_size=batch_size,\n",
    "    class_mode='binary'\n",
    ")\n"
   ]
  },
  {
   "cell_type": "markdown",
   "id": "28369c37-da35-41fb-8f98-9bb2604faaa5",
   "metadata": {},
   "source": [
    "##### Estructura de la Red (Capas)\n",
    "Entrada (Conv2D y MaxPooling2D):\n",
    "Imaginá que tenemos una lupa que recorre la imagen buscando patrones: bordes, manchas, detalles importantes.\n",
    "El primer filtro (Conv2D) usa 32 lupas (o filtros) que se mueven en cuadraditos de 3x3 píxeles.\n",
    "Después de \"mirar\" cada parte, el modelo guarda lo que encontró en una especie de resumen más pequeño (MaxPooling2D).\n",
    "Esta combinación (conv + pool) se repite 3 veces, pero con más \"lupas\" en cada paso (32, 64, 128).\n",
    "##### Normalización (BatchNormalization)\n",
    "Es como poner todas las imágenes en la misma escala para que el modelo no se confunda si alguna está más brillante o más oscura.\n",
    "##### Aplanado (Flatten)\n",
    "Después de detectar patrones, aplastamos toda esa información en una sola línea para poder procesarla mejor.\n",
    "##### Capa de Neuronas (Dense)\n",
    "Acá hacemos los cálculos finales.\n",
    "La capa intermedia (128 neuronas) toma la información ya resumida y trata de encontrar relaciones complejas.\n",
    "La capa final (3 neuronas con softmax) nos da la probabilidad de que la imagen pertenezca a cada una de las tres clases.\n",
    "##### Evitar el Sobreajuste (Dropout)\n",
    "Durante el entrenamiento, algunas neuronas \"se apagan\" aleatoriamente para evitar que el modelo memorice en vez de aprender.\n",
    "##### Por qué esta estructura?\n",
    "Tener varias capas convolucionales ayuda a que la red detecte desde patrones simples (líneas, bordes) hasta patrones complejos (formas específicas).\n",
    "El dropout evita que el modelo se vuelva flojo y solo aprenda los ejemplos que ya vio.\n",
    "La última capa usa softmax porque queremos predecir una de tres clases (probabilidades que sumen 1).\n",
    "\n"
   ]
  },
  {
   "cell_type": "markdown",
   "id": "ae799d73-f59e-41b5-9d4d-6eb33c398535",
   "metadata": {},
   "source": [
    "##### Cuántas capas tiene el modelo CNN?\n",
    "\n",
    "1. Conv2D (32 filtros)                     → extracción de características\n",
    "2. MaxPooling2D                            → reducción de dimensionalidad\n",
    "3. BatchNormalization                      → estabiliza el entrenamiento\n",
    "\n",
    "4. Conv2D (64 filtros)                     → más abstracción de características\n",
    "5. MaxPooling2D\n",
    "6. BatchNormalization\n",
    "\n",
    "7. Conv2D (128 filtros)                    → aún más abstracción\n",
    "8. MaxPooling2D\n",
    "9. BatchNormalization\n",
    "\n",
    "10. Flatten                                → aplana los tensores 3D a 1D\n",
    "11. Dropout                                → reduce sobreajuste\n",
    "12. Dense (128 neuronas, ReLU)             → capa oculta tradicional\n",
    "13. Dense (1 neurona, Sigmoid)             → salida para clasificación binaria\n",
    "\n",
    "🔢 Capas totales: 13 (todas las que definiste en Sequential)\n",
    "\n",
    "Última capa (output): Dense(1, activation='sigmoid') → adecuada para clasificación binaria\n",
    "\n",
    "model.summary() muestra: nombre de la capa, tamaño de salida, y cuántos parámetros (pesos + bias) tiene cada una\n"
   ]
  },
  {
   "cell_type": "markdown",
   "id": "bf25d799-92fe-4069-97f4-04f6eb290261",
   "metadata": {},
   "source": [
    "¿Está normalizando?\n",
    "Sí, parcialmente:\n",
    "\n",
    "con BatchNormalization() después de cada capa convolucional, lo cual normaliza las activaciones internas de la red."
   ]
  },
  {
   "cell_type": "code",
   "execution_count": 11,
   "id": "f7d372c4-c9a9-425e-85c7-3b1ded408838",
   "metadata": {},
   "outputs": [],
   "source": [
    "from tensorflow.keras.models import Sequential\n",
    "from tensorflow.keras.layers import Conv2D, MaxPooling2D, BatchNormalization, Flatten, Dropout, Dense\n",
    "from tensorflow.keras import regularizers\n",
    "\n"
   ]
  },
  {
   "cell_type": "code",
   "execution_count": 12,
   "id": "0ba80346-1800-43b0-8fec-402592cbf434",
   "metadata": {},
   "outputs": [
    {
     "name": "stdout",
     "output_type": "stream",
     "text": [
      "Model: \"sequential\"\n",
      "_________________________________________________________________\n",
      " Layer (type)                Output Shape              Param #   \n",
      "=================================================================\n",
      " conv2d_6 (Conv2D)           (None, 222, 222, 32)      896       \n",
      "                                                                 \n",
      " max_pooling2d_6 (MaxPooling  (None, 111, 111, 32)     0         \n",
      " 2D)                                                             \n",
      "                                                                 \n",
      " batch_normalization_6 (Batc  (None, 111, 111, 32)     128       \n",
      " hNormalization)                                                 \n",
      "                                                                 \n",
      " conv2d_7 (Conv2D)           (None, 109, 109, 64)      18496     \n",
      "                                                                 \n",
      " max_pooling2d_7 (MaxPooling  (None, 54, 54, 64)       0         \n",
      " 2D)                                                             \n",
      "                                                                 \n",
      " batch_normalization_7 (Batc  (None, 54, 54, 64)       256       \n",
      " hNormalization)                                                 \n",
      "                                                                 \n",
      " conv2d_8 (Conv2D)           (None, 52, 52, 128)       73856     \n",
      "                                                                 \n",
      " max_pooling2d_8 (MaxPooling  (None, 26, 26, 128)      0         \n",
      " 2D)                                                             \n",
      "                                                                 \n",
      " batch_normalization_8 (Batc  (None, 26, 26, 128)      512       \n",
      " hNormalization)                                                 \n",
      "                                                                 \n",
      " flatten_2 (Flatten)         (None, 86528)             0         \n",
      "                                                                 \n",
      " dropout_2 (Dropout)         (None, 86528)             0         \n",
      "                                                                 \n",
      " dense (Dense)               (None, 128)               11075712  \n",
      "                                                                 \n",
      " dense_1 (Dense)             (None, 1)                 129       \n",
      "                                                                 \n",
      "=================================================================\n",
      "Total params: 11,169,985\n",
      "Trainable params: 11,169,537\n",
      "Non-trainable params: 448\n",
      "_________________________________________________________________\n"
     ]
    }
   ],
   "source": [
    "# Modelo CNN\n",
    "model = Sequential([\n",
    "    # Primera capa convolucional\n",
    "    Conv2D(32, (3, 3), activation='relu', input_shape=(img_width, img_height, 3)),  # 32 filtros de 3x3\n",
    "    MaxPooling2D((2, 2)),  # Reduce dimensiones a la mitad. Evita sobreajuste\n",
    "    BatchNormalization(),   # Normaliza las activaciones\n",
    "\n",
    "    # Segunda capa convolucional (más profunda)\n",
    "    Conv2D(64, (3, 3), activation='relu'),  # 64 filtros de 3x3\n",
    "    MaxPooling2D((2, 2)),\n",
    "    BatchNormalization(),\n",
    "\n",
    "    # Tercera capa convolucional (aún más profunda)\n",
    "    Conv2D(128, (3, 3), activation='relu'),  # 128 filtros de 3x3\n",
    "    MaxPooling2D((2, 2)),\n",
    "    BatchNormalization(),\n",
    "\n",
    "    # Capas finales (clasificación)\n",
    "    Flatten(),            # \"Aplana\" los mapas de características a 1D\n",
    "    Dropout(0.5),         # Apaga el 50% de neuronas aleatoriamente para evitar sobreajuste\n",
    "    Dense(128, activation='relu', kernel_regularizer=regularizers.l2(0.001)),  # Capa oculta tradicional\n",
    "    Dense(1, activation='sigmoid', kernel_regularizer=regularizers.l2(0.001))  # Salida: 1 neurona (NORMAL vs PNEUMONIA)  #cambiada por que es binaria\n",
    "])\n",
    "\n",
    "#BatchNormalization() → ayuda a estabilizar el entrenamiento.\n",
    "#Dropout(0.5) → reduce sobreajuste apagando conexiones aleatoria\n",
    "# sumar L2 regularization en las capas Dense, si ves que sigue sobreajustando.\n",
    "\n",
    "#·COMPILACIÓN INICIAL (con LR por defecto)\n",
    "model.compile(\n",
    "    optimizer='adam',       # Algoritmo que ajusta los pesos de la red  # LR por defecto es =0.001\n",
    "    loss='binary_crossentropy',  # ← CAMBIAR ESTO para clasificación binaria    \n",
    "    metrics=['accuracy']   # Métrica a monitorear (precisión)\n",
    ")\n",
    "\n",
    "#Resumen del modelo\n",
    "model.summary()\n",
    "\n"
   ]
  },
  {
   "cell_type": "markdown",
   "id": "7c61d4de-7798-453d-9737-26ddb50367c5",
   "metadata": {},
   "source": [
    "### Encontrar la taza de aprendizaje òptima con Learning Rate"
   ]
  },
  {
   "cell_type": "code",
   "execution_count": 13,
   "id": "1870c6a8-7d3f-43c8-b51f-b7732ee58696",
   "metadata": {},
   "outputs": [],
   "source": [
    "import tensorflow as tf\n",
    "from tensorflow.keras.callbacks import Callback\n",
    "\n",
    "class LearningRateFinder(Callback):\n",
    "    def __init__(self, min_lr=1e-6, max_lr=1, steps=100):\n",
    "        self.min_lr = min_lr #valor mínimo de LR a probar.\n",
    "        self.max_lr = max_lr #valor máximo de LR a probar.\n",
    "        self.steps = steps #cantidad de batches donde se probarán LR crecientes.\n",
    "        # Cálculo del multiplicador para aumentar el LR en cada batch:\n",
    "        self.lr_mult = (max_lr / min_lr) ** (1 / steps)\n",
    "        # Para registrar el historial de tasas de aprendizaje y sus respectivas pérdidas:\n",
    "        self.history = {'lr': [], 'loss': []}\n",
    "        self.batch_count = 0\n",
    "\n",
    "    def on_train_batch_begin(self, batch, logs=None): # Este método se ejecuta antes de cada batch durante el entrenamiento.Ajusta el learning rate actual multiplicándolo progresivamente.\n",
    "        lr = self.min_lr * (self.lr_mult ** self.batch_count) # Calcula el LR actual\n",
    "        tf.keras.backend.set_value(self.model.optimizer.lr, lr) # Establece el LR al optimizador\n",
    "\n",
    "        self.history['lr'].append(lr) # Guarda el LR para graficarlo luego\n",
    "        self.batch_count += 1\n",
    "\n",
    "    def on_train_batch_end(self, batch, logs=None):#Este método se ejecuta después de cada batch. Guarda el valor de pérdida (loss) para ese batch.\n",
    "        loss = logs.get('loss')  # Obtiene la pérdida del batch\n",
    "        self.history['loss'].append(loss)  # Guarda la pérdida\n",
    "\n",
    "        print(f\"Batch {batch}: loss={loss}\")  # Muestra por consola el progreso\n"
   ]
  },
  {
   "cell_type": "code",
   "execution_count": 14,
   "id": "dce6a4e6-3463-4148-a10e-c895badec3f5",
   "metadata": {},
   "outputs": [
    {
     "name": "stdout",
     "output_type": "stream",
     "text": [
      "Batch 0: loss=2.9209372997283936\n",
      "Batch 1: loss=2.540607452392578........] - ETA: 29:40 - loss: 2.9209 - accuracy: 0.3438\n",
      "Batch 2: loss=2.2299892902374268.......] - ETA: 18:00 - loss: 2.5406 - accuracy: 0.4062\n",
      "Batch 3: loss=2.3737826347351074.......] - ETA: 18:12 - loss: 2.2300 - accuracy: 0.4375\n",
      "Batch 4: loss=2.3077244758605957.......] - ETA: 21:04 - loss: 2.3738 - accuracy: 0.4219\n",
      "Batch 5: loss=2.264225721359253........] - ETA: 21:08 - loss: 2.3077 - accuracy: 0.4250\n",
      "Batch 6: loss=2.169635534286499........] - ETA: 20:40 - loss: 2.2642 - accuracy: 0.4375\n",
      "Batch 7: loss=2.105597734451294........] - ETA: 19:56 - loss: 2.1696 - accuracy: 0.4464\n",
      "Batch 8: loss=1.998604416847229........] - ETA: 19:41 - loss: 2.1056 - accuracy: 0.4609\n",
      "Batch 9: loss=1.942941665649414........] - ETA: 19:38 - loss: 1.9986 - accuracy: 0.4896\n",
      "Batch 10: loss=1.9080493450164795......] - ETA: 19:47 - loss: 1.9429 - accuracy: 0.5000\n",
      "Batch 11: loss=1.8610925674438477......] - ETA: 19:40 - loss: 1.9080 - accuracy: 0.4972\n",
      "Batch 12: loss=1.860785961151123.......] - ETA: 19:55 - loss: 1.8611 - accuracy: 0.4974\n",
      "Batch 13: loss=1.8482142686843872......] - ETA: 20:00 - loss: 1.8608 - accuracy: 0.5000\n",
      "Batch 14: loss=1.816787838935852.......] - ETA: 19:57 - loss: 1.8482 - accuracy: 0.5112\n",
      "Batch 15: loss=1.7913672924041748......] - ETA: 20:01 - loss: 1.8168 - accuracy: 0.5125\n",
      "Batch 16: loss=1.775925636291504.......] - ETA: 19:45 - loss: 1.7914 - accuracy: 0.5273\n",
      "Batch 17: loss=1.7469046115875244......] - ETA: 19:28 - loss: 1.7759 - accuracy: 0.5221\n",
      "Batch 18: loss=1.718506097793579.......] - ETA: 19:04 - loss: 1.7469 - accuracy: 0.5312\n",
      "Batch 19: loss=1.6917526721954346......] - ETA: 18:46 - loss: 1.7185 - accuracy: 0.5395\n",
      "Batch 20: loss=1.7003633975982666......] - ETA: 18:34 - loss: 1.6918 - accuracy: 0.5469\n",
      "Batch 21: loss=1.6813687086105347......] - ETA: 18:22 - loss: 1.7004 - accuracy: 0.5476\n",
      "Batch 22: loss=1.6434646844863892......] - ETA: 18:05 - loss: 1.6814 - accuracy: 0.5497\n",
      "Batch 23: loss=1.6021381616592407......] - ETA: 18:04 - loss: 1.6435 - accuracy: 0.5639\n",
      "Batch 24: loss=1.5710182189941406......] - ETA: 17:57 - loss: 1.6021 - accuracy: 0.5768\n",
      "Batch 25: loss=1.5454663038253784......] - ETA: 17:37 - loss: 1.5710 - accuracy: 0.5825\n",
      "Batch 26: loss=1.5443223714828491......] - ETA: 17:18 - loss: 1.5455 - accuracy: 0.5913\n",
      "Batch 27: loss=1.5173695087432861......] - ETA: 16:45 - loss: 1.5443 - accuracy: 0.5948\n",
      "Batch 28: loss=1.5069146156311035......] - ETA: 16:42 - loss: 1.5174 - accuracy: 0.6016\n",
      "Batch 29: loss=1.4955878257751465......] - ETA: 16:18 - loss: 1.5069 - accuracy: 0.6090\n",
      "Batch 30: loss=1.468148946762085.......] - ETA: 16:02 - loss: 1.4956 - accuracy: 0.6191\n",
      "Batch 31: loss=1.4469619989395142......] - ETA: 15:46 - loss: 1.4681 - accuracy: 0.6276\n",
      "Batch 32: loss=1.4168068170547485......] - ETA: 15:30 - loss: 1.4470 - accuracy: 0.6345\n",
      "Batch 33: loss=1.4009618759155273......] - ETA: 15:15 - loss: 1.4168 - accuracy: 0.6438\n",
      "Batch 34: loss=1.4091620445251465......] - ETA: 15:00 - loss: 1.4010 - accuracy: 0.6498\n",
      "Batch 35: loss=1.391247272491455.......] - ETA: 14:44 - loss: 1.4092 - accuracy: 0.6491\n",
      "Batch 36: loss=1.3769416809082031......] - ETA: 14:32 - loss: 1.3912 - accuracy: 0.6546\n",
      "Batch 37: loss=1.3576840162277222......] - ETA: 14:14 - loss: 1.3769 - accuracy: 0.6581\n",
      "Batch 38: loss=1.349334716796875.......] - ETA: 13:59 - loss: 1.3577 - accuracy: 0.6647\n",
      "Batch 39: loss=1.3367875814437866......] - ETA: 13:40 - loss: 1.3493 - accuracy: 0.6694\n",
      "Batch 40: loss=1.3151358366012573......] - ETA: 13:27 - loss: 1.3368 - accuracy: 0.6738\n",
      "Batch 41: loss=1.31577730178833........] - ETA: 13:11 - loss: 1.3151 - accuracy: 0.6811\n",
      "Batch 42: loss=1.2948272228240967......] - ETA: 12:54 - loss: 1.3158 - accuracy: 0.6858\n",
      "Batch 43: loss=1.2835322618484497......] - ETA: 12:37 - loss: 1.2948 - accuracy: 0.6917\n",
      "Batch 44: loss=1.2716584205627441......] - ETA: 12:19 - loss: 1.2835 - accuracy: 0.6967\n",
      "Batch 45: loss=1.2655823230743408......] - ETA: 12:01 - loss: 1.2717 - accuracy: 0.7021\n",
      "Batch 46: loss=1.2540446519851685......] - ETA: 11:44 - loss: 1.2656 - accuracy: 0.7045\n",
      "Batch 47: loss=1.25316321849823........] - ETA: 11:30 - loss: 1.2540 - accuracy: 0.7082\n",
      "Batch 48: loss=1.2593095302581787......] - ETA: 11:17 - loss: 1.2532 - accuracy: 0.7111\n",
      "Batch 49: loss=1.2587565183639526......] - ETA: 11:03 - loss: 1.2593 - accuracy: 0.7138\n",
      "Batch 50: loss=1.2428102493286133......] - ETA: 10:47 - loss: 1.2588 - accuracy: 0.7171\n",
      "Batch 51: loss=1.23258376121521........] - ETA: 10:32 - loss: 1.2428 - accuracy: 0.7221\n",
      "Batch 52: loss=1.2285197973251343......] - ETA: 10:17 - loss: 1.2326 - accuracy: 0.7251\n",
      "Batch 53: loss=1.2277013063430786......] - ETA: 10:02 - loss: 1.2285 - accuracy: 0.7273\n",
      "Batch 54: loss=1.2323805093765259......] - ETA: 9:47 - loss: 1.2277 - accuracy: 0.7295 \n",
      "Batch 55: loss=1.2425544261932373......] - ETA: 9:37 - loss: 1.2324 - accuracy: 0.7299\n",
      "Batch 56: loss=1.2389897108078003......] - ETA: 9:24 - loss: 1.2426 - accuracy: 0.7314\n",
      "Batch 57: loss=1.2361489534378052......] - ETA: 9:10 - loss: 1.2390 - accuracy: 0.7328\n",
      "Batch 58: loss=1.2344708442687988......] - ETA: 9:01 - loss: 1.2361 - accuracy: 0.7358\n",
      "Batch 59: loss=1.2941038608551025......] - ETA: 8:51 - loss: 1.2345 - accuracy: 0.7393\n",
      "Batch 60: loss=1.301118016242981.......] - ETA: 8:43 - loss: 1.2941 - accuracy: 0.7384\n",
      "Batch 61: loss=1.2927602529525757......] - ETA: 8:33 - loss: 1.3011 - accuracy: 0.7386\n",
      "Batch 62: loss=1.3346010446548462......] - ETA: 8:22 - loss: 1.2928 - accuracy: 0.7408\n",
      "Batch 63: loss=1.3365212678909302......] - ETA: 8:10 - loss: 1.3346 - accuracy: 0.7415\n",
      "Batch 64: loss=1.400805950164795.......] - ETA: 7:59 - loss: 1.3365 - accuracy: 0.7441\n",
      "Batch 65: loss=1.4100245237350464......] - ETA: 7:48 - loss: 1.4008 - accuracy: 0.7437\n",
      "Batch 66: loss=2.0355656147003174......] - ETA: 7:33 - loss: 1.4100 - accuracy: 0.7428\n",
      "Batch 67: loss=2.1602535247802734......] - ETA: 7:20 - loss: 2.0356 - accuracy: 0.7406\n",
      "Batch 68: loss=2.178854465484619.......] - ETA: 7:09 - loss: 2.1603 - accuracy: 0.7352\n",
      "Batch 69: loss=2.204488515853882.......] - ETA: 6:55 - loss: 2.1789 - accuracy: 0.7326\n",
      "Batch 70: loss=2.2492563724517822......] - ETA: 6:43 - loss: 2.2045 - accuracy: 0.7315\n",
      "Batch 71: loss=2.2640299797058105......] - ETA: 6:30 - loss: 2.2493 - accuracy: 0.7274\n",
      "Batch 72: loss=2.347322702407837.......] - ETA: 6:18 - loss: 2.2640 - accuracy: 0.7290\n",
      "Batch 73: loss=2.439838171005249.......] - ETA: 6:04 - loss: 2.3473 - accuracy: 0.7288\n",
      "Batch 74: loss=2.50520658493042........] - ETA: 5:51 - loss: 2.4398 - accuracy: 0.7253\n",
      "Batch 75: loss=2.61544132232666........] - ETA: 5:37 - loss: 2.5052 - accuracy: 0.7239\n",
      "Batch 76: loss=3.1845240592956543......] - ETA: 5:23 - loss: 2.6154 - accuracy: 0.7210\n",
      "Batch 77: loss=3.358485698699951.......] - ETA: 5:10 - loss: 3.1845 - accuracy: 0.7152\n",
      "Batch 78: loss=3.6466996669769287......] - ETA: 4:57 - loss: 3.3585 - accuracy: 0.7132\n",
      "Batch 79: loss=4.010099411010742.......] - ETA: 4:43 - loss: 3.6467 - accuracy: 0.7121\n",
      "Batch 80: loss=4.434854507446289>......] - ETA: 4:30 - loss: 4.0101 - accuracy: 0.7118\n",
      "Batch 81: loss=4.895605564117432>......] - ETA: 4:17 - loss: 4.4349 - accuracy: 0.7088\n",
      "Batch 82: loss=5.428029537200928>......] - ETA: 4:03 - loss: 4.8956 - accuracy: 0.7066\n",
      "Batch 83: loss=6.066890716552734>......] - ETA: 3:50 - loss: 5.4280 - accuracy: 0.7033\n",
      "Batch 84: loss=6.85329008102417==>.....] - ETA: 3:37 - loss: 6.0669 - accuracy: 0.6998\n",
      "Batch 85: loss=7.722664833068848=>.....] - ETA: 3:23 - loss: 6.8533 - accuracy: 0.7004\n",
      "Batch 86: loss=13.95035171508789=>.....] - ETA: 3:10 - loss: 7.7227 - accuracy: 0.6969\n",
      "Batch 87: loss=16.173492431640625=>....] - ETA: 2:56 - loss: 13.9504 - accuracy: 0.6918\n",
      "Batch 88: loss=18.25714874267578==>....] - ETA: 2:43 - loss: 16.1735 - accuracy: 0.6931\n",
      "Batch 89: loss=37.33784484863281==>....] - ETA: 2:29 - loss: 18.2571 - accuracy: 0.6885\n",
      "Batch 90: loss=47.191444396972656==>...] - ETA: 2:15 - loss: 37.3378 - accuracy: 0.6885\n",
      "Batch 91: loss=58.70192337036133===>...] - ETA: 2:02 - loss: 47.1914 - accuracy: 0.6840\n",
      "Batch 92: loss=123.90567016601562==>...] - ETA: 1:48 - loss: 58.7019 - accuracy: 0.6843\n",
      "Batch 93: loss=218.83692932128906==>...] - ETA: 1:35 - loss: 123.9057 - accuracy: 0.6803\n",
      "Batch 94: loss=255.76943969726562===>..] - ETA: 1:21 - loss: 218.8369 - accuracy: 0.6814\n",
      "Batch 95: loss=1405.205810546875====>..] - ETA: 1:08 - loss: 255.7694 - accuracy: 0.6785\n",
      "Batch 96: loss=1532.01123046875=====>..] - ETA: 54s - loss: 1405.2058 - accuracy: 0.6773\n",
      "Batch 97: loss=1993.8453369140625====>.] - ETA: 40s - loss: 1532.0112 - accuracy: 0.6738\n",
      "Batch 98: loss=2130.700927734375=====>.] - ETA: 27s - loss: 1993.8453 - accuracy: 0.6746\n",
      "Batch 99: loss=2521.931884765625=====>.] - ETA: 13s - loss: 2130.7009 - accuracy: 0.6719\n",
      "100/100 [==============================] - 1372s 14s/step - loss: 2521.9319 - accuracy: 0.6673\n"
     ]
    },
    {
     "data": {
      "image/png": "[encoded data removed]",
      "text/plain": [
       "<Figure size 800x500 with 1 Axes>"
      ]
     },
     "metadata": {},
     "output_type": "display_data"
    }
   ],
   "source": [
    "# Sacamos un batch del generador\n",
    "X_batch, y_batch = next(train_generator)\n",
    "\n",
    "# Instanciamos el callback para buscar el mejor learning rate\n",
    "lr_finder = LearningRateFinder(min_lr=1e-6, max_lr=1, steps=100)\n",
    "\n",
    "# Recompilamos el modelo (esto reinicia el optimizador)\n",
    "model.compile(\n",
    "    optimizer='adam',\n",
    "    loss='binary_crossentropy',\n",
    "    metrics=['accuracy']\n",
    ")\n",
    "\n",
    "# Definimos los pesos por clase para balancear el entrenamiento\n",
    "class_weight = {\n",
    "    0: 3.0,  # NORMAL (menos imágenes → más peso)\n",
    "    1: 1.0   # PNEUMONIA (más imágenes → menos peso)\n",
    "}\n",
    "\n",
    "# Entrenamos con ese batch repetido para probar distintos learning rates\n",
    "model.fit(\n",
    "    train_generator,              # Generador, no datos fijos\n",
    "    steps_per_epoch=100,\n",
    "    epochs=1,\n",
    "    callbacks=[lr_finder],\n",
    "    verbose=1,\n",
    "    class_weight=class_weight     # Aplica el balanceo de clases\n",
    ")\n",
    "\n",
    "\n",
    "import matplotlib.pyplot as plt\n",
    "\n",
    "plt.figure(figsize=(8, 5))\n",
    "plt.plot(lr_finder.history['lr'], lr_finder.history['loss'])\n",
    "plt.xscale('log')\n",
    "plt.xlabel(\"Learning Rate (escala logarítmica)\")\n",
    "plt.ylabel(\"Pérdida (Loss)\")\n",
    "plt.title(\"Buscando el Learning Rate Óptimo\")\n",
    "plt.grid(True)\n",
    "plt.show()\n"
   ]
  },
  {
   "cell_type": "code",
   "execution_count": 16,
   "id": "14e28869-a351-4443-9e6d-2b46a187632d",
   "metadata": {},
   "outputs": [],
   "source": [
    "#Prueba de punto óptimo 1: 0.001 \n",
    "#prueba 2: 0.03\n",
    "#prueba 3: 0.003\n",
    "#Prueba 4: 0.005\n",
    "#Estabecer el LR óptimo en tu optimizador:\n",
    "\n",
    "from tensorflow.keras.optimizers import Adam\n",
    "\n",
    "optimal_lr = 0.005  \n",
    "optimizer = Adam(learning_rate=optimal_lr)\n",
    "\n",
    "model.compile(\n",
    "    optimizer=optimizer,\n",
    "    loss='binary_crossentropy',  # ← cambio necesario para clasificación binaria\n",
    "    metrics=['accuracy']\n",
    ")\n"
   ]
  },
  {
   "cell_type": "markdown",
   "id": "ae277f8c-dcd1-472e-b023-150bc3ee67f8",
   "metadata": {},
   "source": [
    "| Paso siguiente:    | Acción principal                             |\n",
    "| ------------------ | -------------------------------------------- |\n",
    "| Entrenamiento      | Con el LR óptimo que encontraste             |\n",
    "| Guardar modelo     | `model.save('modelo.h5')`                    |\n",
    "| Cargar modelo      | `load_model('modelo.h5')`                    |\n",
    "| Evaluar modelo     | Usando `evaluate()` en el conjunto de prueba |\n",
    "| Hacer predicciones | Con `predict()` sobre nuevas imágenes        |\n"
   ]
  },
  {
   "cell_type": "code",
   "execution_count": 17,
   "id": "d62eb64c-8e13-4600-9488-fc71163fe7cc",
   "metadata": {},
   "outputs": [
    {
     "name": "stdout",
     "output_type": "stream",
     "text": [
      "Epoch 1/15\n",
      "131/131 [==============================] - 1449s 11s/step - loss: 19817.8633 - accuracy: 0.4408 - val_loss: 443931.2188 - val_accuracy: 0.3575\n",
      "Epoch 2/15\n",
      "131/131 [==============================] - 1289s 10s/step - loss: 10686.1660 - accuracy: 0.2629 - val_loss: 7853.8438 - val_accuracy: 0.2623\n",
      "Epoch 3/15\n",
      "131/131 [==============================] - 1606s 12s/step - loss: 5989.8530 - accuracy: 0.2744 - val_loss: 4441.0845 - val_accuracy: 0.7387\n",
      "Epoch 4/15\n",
      "131/131 [==============================] - 1558s 12s/step - loss: 3426.3008 - accuracy: 0.7430 - val_loss: 2575.6887 - val_accuracy: 0.7387\n",
      "Epoch 5/15\n",
      "131/131 [==============================] - 1273s 10s/step - loss: 2017.6132 - accuracy: 0.7387 - val_loss: 1556.6519 - val_accuracy: 0.7387\n",
      "Epoch 6/15\n",
      "131/131 [==============================] - 1214s 9s/step - loss: 1248.8221 - accuracy: 0.7430 - val_loss: 989.7808 - val_accuracy: 0.7387\n",
      "Epoch 7/15\n",
      "131/131 [==============================] - 1284s 10s/step - loss: 814.5472 - accuracy: 0.7428 - val_loss: 663.1525 - val_accuracy: 0.7387\n",
      "Epoch 8/15\n",
      "131/131 [==============================] - 1264s 10s/step - loss: 556.2147 - accuracy: 0.7430 - val_loss: 463.5163 - val_accuracy: 0.7387\n",
      "Epoch 9/15\n",
      "131/131 [==============================] - 1269s 10s/step - loss: 394.9965 - accuracy: 0.7430 - val_loss: 334.4760 - val_accuracy: 0.7387\n",
      "Epoch 10/15\n",
      "131/131 [==============================] - 1262s 10s/step - loss: 287.9959 - accuracy: 0.7426 - val_loss: 246.0491 - val_accuracy: 0.7387\n",
      "Epoch 11/15\n",
      "131/131 [==============================] - 1248s 10s/step - loss: 213.0132 - accuracy: 0.7430 - val_loss: 182.9805 - val_accuracy: 0.7387\n",
      "Epoch 12/15\n",
      "131/131 [==============================] - 1200s 9s/step - loss: 166.2310 - accuracy: 0.7426 - val_loss: 158.8003 - val_accuracy: 0.7387\n",
      "Epoch 13/15\n",
      "131/131 [==============================] - 1231s 9s/step - loss: 132.3056 - accuracy: 0.7430 - val_loss: 116.4288 - val_accuracy: 0.7387\n",
      "Epoch 14/15\n",
      "131/131 [==============================] - 1214s 9s/step - loss: 103.4215 - accuracy: 0.7430 - val_loss: 91.5229 - val_accuracy: 0.7387\n",
      "Epoch 15/15\n",
      "131/131 [==============================] - 1225s 9s/step - loss: 81.8974 - accuracy: 0.7428 - val_loss: 72.9127 - val_accuracy: 0.7387\n"
     ]
    },
    {
     "data": {
      "text/plain": [
       "<keras.callbacks.History at 0x78a889a53b50>"
      ]
     },
     "execution_count": 17,
     "metadata": {},
     "output_type": "execute_result"
    }
   ],
   "source": [
    "#Entrenar el modelo completo ahora con ese LR\n",
    "model.fit(\n",
    "    train_generator,\n",
    "    steps_per_epoch=len(train_generator),\n",
    "    epochs=15,  # las vueltas que les da.\n",
    "    validation_data=val_generator,\n",
    "    validation_steps=len(val_generator),\n",
    "    verbose=1\n",
    ")\n",
    "#Esos valores indican cómo se está desempeñando el modelo en datos de validación\n",
    "#(no vistos durante el entrenamiento), lo que te ayuda a saber si se está sobreajustando o no."
   ]
  },
  {
   "cell_type": "code",
   "execution_count": 18,
   "id": "0be2a396-fb09-471d-ab65-12649fa03b05",
   "metadata": {},
   "outputs": [],
   "source": [
    "# Guardar el modelo completo para no tener que volver a entrenar cada vez:  (arquitectura + pesos + configuración)\n",
    "model.save('modelo_neumonia.h5')\n"
   ]
  },
  {
   "cell_type": "code",
   "execution_count": 19,
   "id": "c1ba74db-96e2-4ec7-ae4d-2a97751e9052",
   "metadata": {},
   "outputs": [],
   "source": [
    "#Cargar el modelo guardado (cuando lo necesite para predecir o evaluars)\n",
    "from tensorflow.keras.models import load_model\n",
    "\n",
    "modelo_cargado = load_model('modelo_neumonia.h5')\n"
   ]
  },
  {
   "cell_type": "markdown",
   "id": "c8e0ffd8-58fc-414b-bafc-2dd22430133d",
   "metadata": {},
   "source": [
    "#### Evaluar el modelo con el conjunto de prueba\n"
   ]
  },
  {
   "cell_type": "code",
   "execution_count": 20,
   "id": "cd726530-fab0-4d90-baf9-e1bb324af477",
   "metadata": {},
   "outputs": [
    {
     "name": "stdout",
     "output_type": "stream",
     "text": [
      "Found 624 images belonging to 2 classes.\n",
      "20/20 [==============================] - 56s 2s/step - loss: 73.1620 - accuracy: 0.5000\n",
      "🔍 Precisión en el conjunto de prueba: 0.50\n"
     ]
    }
   ],
   "source": [
    "test_datagen = ImageDataGenerator(rescale=1./255)\n",
    "\n",
    "test_generator = test_datagen.flow_from_directory(\n",
    "    '/home/variante/ProyectosPython/Proyecto_Neumonia/data/chest_xray/test',\n",
    "    target_size=(224, 224),\n",
    "    batch_size=32,\n",
    "    class_mode='categorical',\n",
    "    shuffle=False\n",
    ")\n",
    "\n",
    "loss, accuracy = modelo_cargado.evaluate(test_generator)\n",
    "print(f'🔍 Precisión en el conjunto de prueba: {accuracy:.2f}')"
   ]
  },
  {
   "cell_type": "markdown",
   "id": "abe7fd84-2cf9-442e-8631-e3dc40bbdb71",
   "metadata": {},
   "source": [
    "#### Hacer predicciones\n",
    "Para obtener la clase predicha en nuevas imágenes:"
   ]
  },
  {
   "cell_type": "code",
   "execution_count": 21,
   "id": "d0b049d3-08c0-42a6-b24e-f0addde75c16",
   "metadata": {},
   "outputs": [
    {
     "name": "stdout",
     "output_type": "stream",
     "text": [
      "1/1 [==============================] - 17s 17s/step\n",
      "Predicción: NORMAL\n",
      "Clases del generador: {'NORMAL': 0, 'PNEUMONIA': 1}\n",
      "34/34 [==============================] - 93s 3s/step\n",
      "Clasificación completa:\n"
     ]
    },
    {
     "name": "stderr",
     "output_type": "stream",
     "text": [
      "/home/variante/miniconda3/envs/tf_keras/lib/python3.9/site-packages/sklearn/metrics/_classification.py:1565: UndefinedMetricWarning: Precision is ill-defined and being set to 0.0 in labels with no predicted samples. Use `zero_division` parameter to control this behavior.\n",
      "  _warn_prf(average, modifier, f\"{metric.capitalize()} is\", len(result))\n",
      "/home/variante/miniconda3/envs/tf_keras/lib/python3.9/site-packages/sklearn/metrics/_classification.py:1565: UndefinedMetricWarning: Precision is ill-defined and being set to 0.0 in labels with no predicted samples. Use `zero_division` parameter to control this behavior.\n",
      "  _warn_prf(average, modifier, f\"{metric.capitalize()} is\", len(result))\n",
      "/home/variante/miniconda3/envs/tf_keras/lib/python3.9/site-packages/sklearn/metrics/_classification.py:1565: UndefinedMetricWarning: Precision is ill-defined and being set to 0.0 in labels with no predicted samples. Use `zero_division` parameter to control this behavior.\n",
      "  _warn_prf(average, modifier, f\"{metric.capitalize()} is\", len(result))\n"
     ]
    },
    {
     "name": "stdout",
     "output_type": "stream",
     "text": [
      "              precision    recall  f1-score   support\n",
      "\n",
      "      NORMAL       0.26      1.00      0.41       277\n",
      "   PNEUMONIA       0.00      0.00      0.00       783\n",
      "\n",
      "    accuracy                           0.26      1060\n",
      "   macro avg       0.13      0.50      0.21      1060\n",
      "weighted avg       0.07      0.26      0.11      1060\n",
      "\n"
     ]
    },
    {
     "data": {
      "image/png": "[encoded data removed]",
      "text/plain": [
       "<Figure size 600x600 with 1 Axes>"
      ]
     },
     "metadata": {},
     "output_type": "display_data"
    }
   ],
   "source": [
    "# Predicción de una imagen nueva\n",
    "img = load_img('/home/variante/ProyectosPython/Proyecto_Neumonia/data/chest_xray/test/PNEUMONIA/person102_bacteria_487.jpeg', target_size=(img_width, img_height))\n",
    "img_array = img_to_array(img) / 255.0\n",
    "img_array = np.expand_dims(img_array, axis=0)\n",
    "prediction = model.predict(img_array)\n",
    "predicted_class = np.argmax(prediction)\n",
    "predicted_label = list(val_generator.class_indices.keys())[predicted_class]\n",
    "print(f\"Predicción: {predicted_label}\")\n",
    "\n",
    "# Verificar clases del generador\n",
    "print(\"Clases del generador:\", val_generator.class_indices)\n",
    "\n",
    "# Evaluación detallada\n",
    "y_pred = np.argmax(model.predict(val_generator), axis=1)\n",
    "y_true = val_generator.classes\n",
    "\n",
    "print(\"Clasificación completa:\")\n",
    "class_names = [label for label, _ in sorted(val_generator.class_indices.items(), key=lambda x: x[1])]\n",
    "print(classification_report(y_true, y_pred, target_names=class_names))\n",
    "\n",
    "# Matriz de confusión\n",
    "conf_matrix = confusion_matrix(y_true, y_pred)\n",
    "plt.figure(figsize=(6, 6))\n",
    "plt.imshow(conf_matrix, cmap='Blues')\n",
    "plt.title('Matriz de Confusión')\n",
    "plt.xlabel('Predicción')\n",
    "plt.ylabel('Etiqueta Verdadera')\n",
    "plt.show()\n"
   ]
  },
  {
   "cell_type": "code",
   "execution_count": null,
   "id": "e33b1545-d6ab-46d6-ae4f-d1effd42aace",
   "metadata": {},
   "outputs": [],
   "source": []
  }
 ],
 "metadata": {
  "kernelspec": {
   "display_name": "Python 3 (ipykernel)",
   "language": "python",
   "name": "python3"
  },
  "language_info": {
   "codemirror_mode": {
    "name": "ipython",
    "version": 3
   },
   "file_extension": ".py",
   "mimetype": "text/x-python",
   "name": "python",
   "nbconvert_exporter": "python",
   "pygments_lexer": "ipython3",
   "version": "3.9.18"
  }
 },
 "nbformat": 4,
 "nbformat_minor": 5
}
