{
 "cells": [
  {
   "cell_type": "code",
   "execution_count": null,
   "id": "4de272e5-fcb5-4307-a477-a90260bed158",
   "metadata": {},
   "outputs": [],
   "source": [
    "import tensorflow as tf\n",
    "print(\"Versión de TensorFlow:\", tf.__version__)"
   ]
  },
  {
   "cell_type": "code",
   "execution_count": 1,
   "id": "3ef5064a-94cb-4035-8e1f-8580cb8355cb",
   "metadata": {},
   "outputs": [
    {
     "name": "stdout",
     "output_type": "stream",
     "text": [
      "Requirement already satisfied: scikit-learn in /home/variante/miniconda3/envs/tf_keras/lib/python3.9/site-packages (1.6.1)\n",
      "Requirement already satisfied: matplotlib in /home/variante/miniconda3/envs/tf_keras/lib/python3.9/site-packages (3.9.4)\n",
      "Requirement already satisfied: numpy>=1.19.5 in /home/variante/miniconda3/envs/tf_keras/lib/python3.9/site-packages (from scikit-learn) (1.26.4)\n",
      "Requirement already satisfied: scipy>=1.6.0 in /home/variante/miniconda3/envs/tf_keras/lib/python3.9/site-packages (from scikit-learn) (1.13.1)\n",
      "Requirement already satisfied: joblib>=1.2.0 in /home/variante/miniconda3/envs/tf_keras/lib/python3.9/site-packages (from scikit-learn) (1.5.0)\n",
      "Requirement already satisfied: threadpoolctl>=3.1.0 in /home/variante/miniconda3/envs/tf_keras/lib/python3.9/site-packages (from scikit-learn) (3.6.0)\n",
      "Requirement already satisfied: contourpy>=1.0.1 in /home/variante/miniconda3/envs/tf_keras/lib/python3.9/site-packages (from matplotlib) (1.3.0)\n",
      "Requirement already satisfied: cycler>=0.10 in /home/variante/miniconda3/envs/tf_keras/lib/python3.9/site-packages (from matplotlib) (0.12.1)\n",
      "Requirement already satisfied: fonttools>=4.22.0 in /home/variante/miniconda3/envs/tf_keras/lib/python3.9/site-packages (from matplotlib) (4.58.0)\n",
      "Requirement already satisfied: kiwisolver>=1.3.1 in /home/variante/miniconda3/envs/tf_keras/lib/python3.9/site-packages (from matplotlib) (1.4.7)\n",
      "Requirement already satisfied: packaging>=20.0 in /home/variante/miniconda3/envs/tf_keras/lib/python3.9/site-packages (from matplotlib) (24.2)\n",
      "Requirement already satisfied: pillow>=8 in /home/variante/miniconda3/envs/tf_keras/lib/python3.9/site-packages (from matplotlib) (11.2.1)\n",
      "Requirement already satisfied: pyparsing>=2.3.1 in /home/variante/miniconda3/envs/tf_keras/lib/python3.9/site-packages (from matplotlib) (3.2.3)\n",
      "Requirement already satisfied: python-dateutil>=2.7 in /home/variante/miniconda3/envs/tf_keras/lib/python3.9/site-packages (from matplotlib) (2.9.0.post0)\n",
      "Requirement already satisfied: importlib-resources>=3.2.0 in /home/variante/miniconda3/envs/tf_keras/lib/python3.9/site-packages (from matplotlib) (6.5.2)\n",
      "Requirement already satisfied: zipp>=3.1.0 in /home/variante/miniconda3/envs/tf_keras/lib/python3.9/site-packages (from importlib-resources>=3.2.0->matplotlib) (3.21.0)\n",
      "Requirement already satisfied: six>=1.5 in /home/variante/miniconda3/envs/tf_keras/lib/python3.9/site-packages (from python-dateutil>=2.7->matplotlib) (1.17.0)\n"
     ]
    }
   ],
   "source": [
    "#Esto instalará las librerías en tu entorno actual (tf_keras).luego reiniciar kernel\n",
    "import sys\n",
    "!{sys.executable} -m pip install scikit-learn matplotlib"
   ]
  },
  {
   "cell_type": "code",
   "execution_count": 1,
   "id": "b5ace63d-abcc-4499-8167-34bcebe2ee02",
   "metadata": {},
   "outputs": [
    {
     "name": "stdout",
     "output_type": "stream",
     "text": [
      "Requirement already satisfied: matplotlib in /home/variante/miniconda3/envs/tf_keras/lib/python3.9/site-packages (3.9.4)\n",
      "Requirement already satisfied: contourpy>=1.0.1 in /home/variante/miniconda3/envs/tf_keras/lib/python3.9/site-packages (from matplotlib) (1.3.0)\n",
      "Requirement already satisfied: cycler>=0.10 in /home/variante/miniconda3/envs/tf_keras/lib/python3.9/site-packages (from matplotlib) (0.12.1)\n",
      "Requirement already satisfied: fonttools>=4.22.0 in /home/variante/miniconda3/envs/tf_keras/lib/python3.9/site-packages (from matplotlib) (4.58.0)\n",
      "Requirement already satisfied: kiwisolver>=1.3.1 in /home/variante/miniconda3/envs/tf_keras/lib/python3.9/site-packages (from matplotlib) (1.4.7)\n",
      "Requirement already satisfied: numpy>=1.23 in /home/variante/miniconda3/envs/tf_keras/lib/python3.9/site-packages (from matplotlib) (1.26.4)\n",
      "Requirement already satisfied: packaging>=20.0 in /home/variante/miniconda3/envs/tf_keras/lib/python3.9/site-packages (from matplotlib) (24.2)\n",
      "Requirement already satisfied: pillow>=8 in /home/variante/miniconda3/envs/tf_keras/lib/python3.9/site-packages (from matplotlib) (11.2.1)\n",
      "Requirement already satisfied: pyparsing>=2.3.1 in /home/variante/miniconda3/envs/tf_keras/lib/python3.9/site-packages (from matplotlib) (3.2.3)\n",
      "Requirement already satisfied: python-dateutil>=2.7 in /home/variante/miniconda3/envs/tf_keras/lib/python3.9/site-packages (from matplotlib) (2.9.0.post0)\n",
      "Requirement already satisfied: importlib-resources>=3.2.0 in /home/variante/miniconda3/envs/tf_keras/lib/python3.9/site-packages (from matplotlib) (6.5.2)\n",
      "Requirement already satisfied: zipp>=3.1.0 in /home/variante/miniconda3/envs/tf_keras/lib/python3.9/site-packages (from importlib-resources>=3.2.0->matplotlib) (3.21.0)\n",
      "Requirement already satisfied: six>=1.5 in /home/variante/miniconda3/envs/tf_keras/lib/python3.9/site-packages (from python-dateutil>=2.7->matplotlib) (1.17.0)\n"
     ]
    }
   ],
   "source": [
    "!pip install matplotlib"
   ]
  },
  {
   "cell_type": "code",
   "execution_count": 3,
   "id": "030b86ea-b6ad-4fd2-9c00-5fbb9d39d500",
   "metadata": {},
   "outputs": [],
   "source": [
    "import os\n",
    "os.environ['TF_CPP_MIN_LOG_LEVEL'] = '2'  # Oculta avisos de CPU (pero muestra errores reales)\n",
    "import tensorflow as tf"
   ]
  },
  {
   "cell_type": "code",
   "execution_count": 4,
   "id": "1fb93def-5c10-4687-b6cc-cf0997a70757",
   "metadata": {},
   "outputs": [],
   "source": [
    "import tensorflow as tf\n",
    "from tensorflow.keras.models import Sequential, load_model\n",
    "from tensorflow.keras.layers import Conv2D, MaxPooling2D, Flatten, Dense, Dropout, BatchNormalization\n",
    "from tensorflow.keras.preprocessing.image import ImageDataGenerator\n",
    "from tensorflow.keras.utils import load_img, img_to_array\n",
    "import numpy as np\n",
    "from sklearn.metrics import classification_report, confusion_matrix\n",
    "import matplotlib.pyplot as plt\n",
    "\n",
    "import tensorflow as tf\n",
    "from tensorflow.keras.callbacks import Callback\n"
   ]
  },
  {
   "cell_type": "markdown",
   "id": "ae9af17a-7e99-4479-bf55-7edeaaf2bb43",
   "metadata": {},
   "source": [
    "### Explicaciòn de paràmetros\n",
    "##### - Ajustar el batch_size \n",
    "puede afectar tanto el rendimiento como el uso de memoria: Valores más grandes pueden hacer el entrenamiento más rápido pero requieren más RAM y valores pequeños pueden hacer que el entrenamiento sea más estable pero más lento.\n",
    "##### - Ajustar epochs\n",
    "significa que el modelo pasará por todo el conjunto de datos de entrenamiento 20 veces. Más épocas pueden mejorar la precisión, pero también aumentar el riesgo de sobreajuste y menos épocas pueden resultar en un modelo subentrenado."
   ]
  },
  {
   "cell_type": "code",
   "execution_count": 5,
   "id": "20c92f46-1374-441a-85dc-f785a4579eb0",
   "metadata": {},
   "outputs": [
    {
     "name": "stdout",
     "output_type": "stream",
     "text": [
      "\n",
      "Contando imágenes en los conjuntos de datos:\n",
      "\n",
      "Conjunto de entrenamiento:\n",
      "Carpeta: train/NORMAL - Imágenes: 1072\n",
      "Carpeta: train/PNEUMONIA - Imágenes: 3100\n",
      "\n",
      "Conjunto de validación:\n",
      "Carpeta: val/NORMAL - Imágenes: 277\n",
      "Carpeta: val/PNEUMONIA - Imágenes: 783\n",
      "\n",
      "Conjunto de prueba:\n",
      "Carpeta: test/NORMAL - Imágenes: 234\n",
      "Carpeta: test/PNEUMONIA - Imágenes: 390\n"
     ]
    }
   ],
   "source": [
    "from tensorflow.keras.preprocessing.image import ImageDataGenerator\n",
    "import os\n",
    "import shutil\n",
    "from sklearn.model_selection import train_test_split\n",
    "\n",
    "# Función para contar imágenes en una carpeta\n",
    "def contar_imagenes(ruta_base):\n",
    "    carpetas = ['NORMAL', 'PNEUMONIA']\n",
    "    for carpeta in carpetas:\n",
    "        ruta_completa = os.path.join(ruta_base, carpeta)\n",
    "        num_imagenes = len(os.listdir(ruta_completa))\n",
    "        print(f'Carpeta: {os.path.basename(ruta_base)}/{carpeta} - Imágenes: {num_imagenes}')\n",
    "\n",
    "# Parámetros (ajusta según necesites)\n",
    "img_width, img_height = 224, 224 # ajusta El tamaño de las imágenes (224x224).\n",
    "batch_size = 32 #significa que el modelo tomará bloques de 32 imágenes de entrenamiento a la vez para calcular el gradiente y actualizar los pesos.\n",
    "epochs = 15 #veces que el modelo recorrerá todo el conjunto de entrenamiento\n",
    "\n",
    "# Rutas\n",
    "base_path = '/home/variante/ProyectosPython/Proyecto_Neumonia/data/chest_xray'\n",
    "train_dir = f'{base_path}/train'\n",
    "val_dir = f'{base_path}/val'\n",
    "test_dir = f'{base_path}/test'  \n",
    "\n",
    "# Contar imágenes antes de continuar\n",
    "print(\"\\nContando imágenes en los conjuntos de datos:\")\n",
    "print(\"\\nConjunto de entrenamiento:\")\n",
    "contar_imagenes(train_dir)\n",
    "print(\"\\nConjunto de validación:\")\n",
    "contar_imagenes(val_dir)\n",
    "print(\"\\nConjunto de prueba:\")\n",
    "contar_imagenes(test_dir)\n",
    "\n"
   ]
  },
  {
   "cell_type": "markdown",
   "id": "fe8fe521-ee13-457a-a234-61be275b378e",
   "metadata": {},
   "source": [
    " #### imágenes corruptas o anómalas\n"
   ]
  },
  {
   "cell_type": "code",
   "execution_count": 6,
   "id": "80df2320-9248-4023-a871-a06c2c745a01",
   "metadata": {},
   "outputs": [
    {
     "name": "stdout",
     "output_type": "stream",
     "text": [
      "\n",
      "Verificando imágenes en el conjunto de entrenamiento:\n",
      "En train: Imágenes corruptas = 0, Tamaños anómalos = 4172\n",
      "\n",
      "Verificando imágenes en el conjunto de validación:\n",
      "En val: Imágenes corruptas = 0, Tamaños anómalos = 1060\n",
      "\n",
      "Verificando imágenes en el conjunto de prueba:\n",
      "En test: Imágenes corruptas = 0, Tamaños anómalos = 624\n"
     ]
    }
   ],
   "source": [
    "from PIL import Image\n",
    "\n",
    "def verificar_imagenes(ruta_base):\n",
    "    carpetas = ['NORMAL', 'PNEUMONIA']\n",
    "    num_corruptas = 0\n",
    "    num_tamanios_anomalos = 0\n",
    "\n",
    "    for carpeta in carpetas:\n",
    "        ruta_carpeta = os.path.join(ruta_base, carpeta)\n",
    "        for archivo in os.listdir(ruta_carpeta):\n",
    "            ruta_archivo = os.path.join(ruta_carpeta, archivo)\n",
    "            try:\n",
    "                img = Image.open(ruta_archivo)\n",
    "                img.verify()\n",
    "                img = Image.open(ruta_archivo)\n",
    "                if img.size != (img_width, img_height):\n",
    "                    num_tamanios_anomalos += 1\n",
    "            except (IOError, SyntaxError) as e:\n",
    "                num_corruptas += 1\n",
    "\n",
    "    print(f'En {os.path.basename(ruta_base)}: Imágenes corruptas = {num_corruptas}, Tamaños anómalos = {num_tamanios_anomalos}')\n",
    "\n",
    "# Ejecución\n",
    "print(\"\\nVerificando imágenes en el conjunto de entrenamiento:\")\n",
    "verificar_imagenes(train_dir)\n",
    "\n",
    "print(\"\\nVerificando imágenes en el conjunto de validación:\")\n",
    "verificar_imagenes(val_dir)\n",
    "\n",
    "print(\"\\nVerificando imágenes en el conjunto de prueba:\")\n",
    "verificar_imagenes(test_dir)\n",
    "\n",
    "#aunque los tamaños sean anomalos se ajustaran para el entrenamiento por el anterior bloque img_width, img_height = 224, 224 y target size abajo"
   ]
  },
  {
   "cell_type": "markdown",
   "id": "797f0ea8-c1f2-4988-bd28-6b97ac9eb25c",
   "metadata": {},
   "source": [
    "#### Normalizar\n",
    "train_datagen, val_datagen, y test_datagen → normalizan los píxeles a [0, 1] con rescale=1./255.\n",
    "\n",
    "train_generator, val_generator, y test_generator → generan imágenes normalizadas desde las carpetas."
   ]
  },
  {
   "cell_type": "code",
   "execution_count": 7,
   "id": "3106eb84-6b3c-4e5c-b1f5-e73d2770f425",
   "metadata": {},
   "outputs": [
    {
     "name": "stdout",
     "output_type": "stream",
     "text": [
      "Found 4172 images belonging to 2 classes.\n",
      "Found 1060 images belonging to 2 classes.\n",
      "Found 624 images belonging to 2 classes.\n"
     ]
    }
   ],
   "source": [
    "# Normalización de imágenes\n",
    "# ------------------------------\n",
    "# Esta sección normaliza los valores de píxeles de las imágenes (de 0–255 a 0–1)\n",
    "# para que la red neuronal pueda aprender mejor\n",
    "\n",
    "train_datagen = ImageDataGenerator(rescale=1./255)\n",
    "val_datagen = ImageDataGenerator(rescale=1./255)\n",
    "test_datagen = ImageDataGenerator(rescale=1./255)\n",
    "\n",
    "# Generadores que aplican la normalización al cargar las imágenes\n",
    "train_generator = train_datagen.flow_from_directory(\n",
    "    train_dir,\n",
    "    target_size=(img_width, img_height),\n",
    "    batch_size=batch_size,\n",
    "    class_mode='binary'\n",
    ")\n",
    "\n",
    "val_generator = val_datagen.flow_from_directory(\n",
    "    val_dir,\n",
    "    target_size=(img_width, img_height),\n",
    "    batch_size=batch_size,\n",
    "    class_mode='binary'\n",
    ")\n",
    "\n",
    "test_generator = test_datagen.flow_from_directory(\n",
    "    test_dir,\n",
    "    target_size=(img_width, img_height),\n",
    "    batch_size=batch_size,\n",
    "    class_mode='binary',\n",
    "    shuffle=False  # Para mantener el orden al evaluar\n",
    ")"
   ]
  },
  {
   "cell_type": "markdown",
   "id": "cbc2ae4b-730b-4482-8e08-e1beccd38008",
   "metadata": {},
   "source": [
    "### Generadores de Imágenes\n",
    "Las imágenes crudas (las originales) no siempre son suficientes para entrenar bien una red neuronal. Para mejorar la precisión y evitar que el modelo se quede \"pegado\" a ciertos patrones, hacemos un par de trucos con las imágenes:\n",
    "\n",
    "##### Escalado\n",
    "Convertimos los valores de píxeles (que van de 0 a 255) a un rango entre 0 y 1. Esto lo hacemos dividiendo cada valor de píxel por 255.\n",
    "Sirve para que el modelo trabaje mejor con los datos.\n",
    "##### Aumentación de Datos (Data Augmentation)\n",
    "Generamos imágenes ligeramente diferentes a partir de las originales.\n",
    "\n",
    "##### ¿Cómo lo hacemos? Aplicando transformaciones aleatorias:\n",
    "- Rotación: Giramos la imagen hasta 20 grados.\n",
    "- Desplazamiento horizontal y vertical: Movemos la imagen un 20% en ambas direcciones.\n",
    "- Cizallamiento: Deformamos la imagen en ángulo.\n",
    "- Zoom: Acercamos o alejamos la imagen.\n",
    "- Reflejo horizontal: Volteamos la imagen de izquierda a derecha.\n",
    "Esto ayuda a que el modelo sea más robusto, evitando que aprenda solo de imágenes en una posición específica."
   ]
  },
  {
   "cell_type": "code",
   "execution_count": 8,
   "id": "8d1865b7-055b-49a4-822d-492e04c37431",
   "metadata": {},
   "outputs": [
    {
     "name": "stdout",
     "output_type": "stream",
     "text": [
      "Found 4172 images belonging to 2 classes.\n",
      "Found 1060 images belonging to 2 classes.\n"
     ]
    }
   ],
   "source": [
    "# Generadores de imágenes\n",
    "train_datagen = ImageDataGenerator(\n",
    "    rescale=1./255,\n",
    "    rotation_range=20,\n",
    "    width_shift_range=0.2,\n",
    "    height_shift_range=0.2,\n",
    "    shear_range=0.2,\n",
    "    zoom_range=0.2,\n",
    "    horizontal_flip=True\n",
    ")\n",
    "\n",
    "val_datagen = ImageDataGenerator(rescale=1./255)\n",
    "\n",
    "train_generator = train_datagen.flow_from_directory(\n",
    "     '/home/variante/ProyectosPython/Proyecto_Neumonia/data/chest_xray/train',\n",
    "    target_size=(img_width, img_height),\n",
    "    batch_size=batch_size,\n",
    "    class_mode='binary' #  el tipo de salida (binario), \n",
    ")\n",
    "\n",
    "val_generator = val_datagen.flow_from_directory(\n",
    "     '/home/variante/ProyectosPython/Proyecto_Neumonia/data/chest_xray/val',\n",
    "    target_size=(img_width, img_height),\n",
    "    batch_size=batch_size,\n",
    "    class_mode='binary'\n",
    ")\n"
   ]
  },
  {
   "cell_type": "markdown",
   "id": "28369c37-da35-41fb-8f98-9bb2604faaa5",
   "metadata": {},
   "source": [
    "##### Estructura de la Red (Capas)\n",
    "Entrada (Conv2D y MaxPooling2D):\n",
    "Imaginá que tenemos una lupa que recorre la imagen buscando patrones: bordes, manchas, detalles importantes.\n",
    "El primer filtro (Conv2D) usa 32 lupas (o filtros) que se mueven en cuadraditos de 3x3 píxeles.\n",
    "Después de \"mirar\" cada parte, el modelo guarda lo que encontró en una especie de resumen más pequeño (MaxPooling2D).\n",
    "Esta combinación (conv + pool) se repite 3 veces, pero con más \"lupas\" en cada paso (32, 64, 128).\n",
    "##### Normalización (BatchNormalization)\n",
    "Es como poner todas las imágenes en la misma escala para que el modelo no se confunda si alguna está más brillante o más oscura.\n",
    "##### Aplanado (Flatten)\n",
    "Después de detectar patrones, aplastamos toda esa información en una sola línea para poder procesarla mejor.\n",
    "##### Capa de Neuronas (Dense)\n",
    "Acá hacemos los cálculos finales.\n",
    "La capa intermedia (128 neuronas) toma la información ya resumida y trata de encontrar relaciones complejas.\n",
    "La capa final (3 neuronas con softmax) nos da la probabilidad de que la imagen pertenezca a cada una de las tres clases.\n",
    "##### Evitar el Sobreajuste (Dropout)\n",
    "Durante el entrenamiento, algunas neuronas \"se apagan\" aleatoriamente para evitar que el modelo memorice en vez de aprender.\n",
    "##### Por qué esta estructura?\n",
    "Tener varias capas convolucionales ayuda a que la red detecte desde patrones simples (líneas, bordes) hasta patrones complejos (formas específicas).\n",
    "El dropout evita que el modelo se vuelva flojo y solo aprenda los ejemplos que ya vio.\n",
    "La última capa usa softmax porque queremos predecir una de tres clases (probabilidades que sumen 1).\n",
    "\n"
   ]
  },
  {
   "cell_type": "markdown",
   "id": "ae799d73-f59e-41b5-9d4d-6eb33c398535",
   "metadata": {},
   "source": [
    "##### Cuántas capas tiene el modelo CNN?\n",
    "\n",
    "1. Conv2D (32 filtros)                     → extracción de características\n",
    "2. MaxPooling2D                            → reducción de dimensionalidad\n",
    "3. BatchNormalization                      → estabiliza el entrenamiento\n",
    "\n",
    "4. Conv2D (64 filtros)                     → más abstracción de características\n",
    "5. MaxPooling2D\n",
    "6. BatchNormalization\n",
    "\n",
    "7. Conv2D (128 filtros)                    → aún más abstracción\n",
    "8. MaxPooling2D\n",
    "9. BatchNormalization\n",
    "\n",
    "10. Flatten                                → aplana los tensores 3D a 1D\n",
    "11. Dropout                                → reduce sobreajuste\n",
    "12. Dense (128 neuronas, ReLU)             → capa oculta tradicional\n",
    "13. Dense (1 neurona, Sigmoid)             → salida para clasificación binaria\n",
    "\n",
    "🔢 Capas totales: 13 (todas las que definiste en Sequential)\n",
    "\n",
    "Última capa (output): Dense(1, activation='sigmoid') → adecuada para clasificación binaria\n",
    "\n",
    "model.summary() muestra: nombre de la capa, tamaño de salida, y cuántos parámetros (pesos + bias) tiene cada una\n"
   ]
  },
  {
   "cell_type": "markdown",
   "id": "bf25d799-92fe-4069-97f4-04f6eb290261",
   "metadata": {},
   "source": [
    "¿Está normalizando?\n",
    "Sí, parcialmente:\n",
    "\n",
    "con BatchNormalization() después de cada capa convolucional, lo cual normaliza las activaciones internas de la red."
   ]
  },
  {
   "cell_type": "code",
   "execution_count": 9,
   "id": "f7d372c4-c9a9-425e-85c7-3b1ded408838",
   "metadata": {},
   "outputs": [],
   "source": [
    "from tensorflow.keras.models import Sequential\n",
    "from tensorflow.keras.layers import Conv2D, MaxPooling2D, BatchNormalization, Flatten, Dropout, Dense\n"
   ]
  },
  {
   "cell_type": "code",
   "execution_count": 10,
   "id": "0ba80346-1800-43b0-8fec-402592cbf434",
   "metadata": {},
   "outputs": [
    {
     "name": "stdout",
     "output_type": "stream",
     "text": [
      "Model: \"sequential\"\n",
      "_________________________________________________________________\n",
      " Layer (type)                Output Shape              Param #   \n",
      "=================================================================\n",
      " conv2d (Conv2D)             (None, 222, 222, 32)      896       \n",
      "                                                                 \n",
      " max_pooling2d (MaxPooling2D  (None, 111, 111, 32)     0         \n",
      " )                                                               \n",
      "                                                                 \n",
      " batch_normalization (BatchN  (None, 111, 111, 32)     128       \n",
      " ormalization)                                                   \n",
      "                                                                 \n",
      " conv2d_1 (Conv2D)           (None, 109, 109, 64)      18496     \n",
      "                                                                 \n",
      " max_pooling2d_1 (MaxPooling  (None, 54, 54, 64)       0         \n",
      " 2D)                                                             \n",
      "                                                                 \n",
      " batch_normalization_1 (Batc  (None, 54, 54, 64)       256       \n",
      " hNormalization)                                                 \n",
      "                                                                 \n",
      " conv2d_2 (Conv2D)           (None, 52, 52, 128)       73856     \n",
      "                                                                 \n",
      " max_pooling2d_2 (MaxPooling  (None, 26, 26, 128)      0         \n",
      " 2D)                                                             \n",
      "                                                                 \n",
      " batch_normalization_2 (Batc  (None, 26, 26, 128)      512       \n",
      " hNormalization)                                                 \n",
      "                                                                 \n",
      " flatten (Flatten)           (None, 86528)             0         \n",
      "                                                                 \n",
      " dropout (Dropout)           (None, 86528)             0         \n",
      "                                                                 \n",
      " dense (Dense)               (None, 128)               11075712  \n",
      "                                                                 \n",
      " dense_1 (Dense)             (None, 1)                 129       \n",
      "                                                                 \n",
      "=================================================================\n",
      "Total params: 11,169,985\n",
      "Trainable params: 11,169,537\n",
      "Non-trainable params: 448\n",
      "_________________________________________________________________\n"
     ]
    }
   ],
   "source": [
    "# Modelo CNN\n",
    "model = Sequential([\n",
    "    # Primera capa convolucional\n",
    "    Conv2D(32, (3, 3), activation='relu', input_shape=(img_width, img_height, 3)),  # 32 filtros de 3x3\n",
    "    MaxPooling2D((2, 2)),  # Reduce dimensiones a la mitad. Evita sobreajuste\n",
    "    BatchNormalization(),   # Normaliza las activaciones\n",
    "\n",
    "    # Segunda capa convolucional (más profunda)\n",
    "    Conv2D(64, (3, 3), activation='relu'),  # 64 filtros de 3x3\n",
    "    MaxPooling2D((2, 2)),\n",
    "    BatchNormalization(),\n",
    "\n",
    "    # Tercera capa convolucional (aún más profunda)\n",
    "    Conv2D(128, (3, 3), activation='relu'),  # 128 filtros de 3x3\n",
    "    MaxPooling2D((2, 2)),\n",
    "    BatchNormalization(),\n",
    "\n",
    "    # Capas finales (clasificación)\n",
    "    Flatten(),            # \"Aplana\" los mapas de características a 1D\n",
    "    Dropout(0.5),         # Apaga el 50% de neuronas aleatoriamente para evitar sobreajuste\n",
    "    Dense(128, activation='relu'),  # Capa oculta tradicional\n",
    "    Dense(1, activation='sigmoid')  # Salida: 1 neurona (NORMAL vs PNEUMONIA)  #cambiada por que es binaria\n",
    "])\n",
    "\n",
    "#·COMPILACIÓN INICIAL (con LR por defecto)\n",
    "model.compile(\n",
    "    optimizer='adam',       # Algoritmo que ajusta los pesos de la red  # LR por defecto es =0.001\n",
    "    loss='binary_crossentropy',  # ← CAMBIAR ESTO para clasificación binaria    \n",
    "    metrics=['accuracy']   # Métrica a monitorear (precisión)\n",
    ")\n",
    "\n",
    "#Resumen del modelo\n",
    "model.summary()\n",
    "\n"
   ]
  },
  {
   "cell_type": "markdown",
   "id": "7c61d4de-7798-453d-9737-26ddb50367c5",
   "metadata": {},
   "source": [
    "### Encontrar la taza de aprendizaje òptima con Learning Rate"
   ]
  },
  {
   "cell_type": "code",
   "execution_count": 11,
   "id": "1870c6a8-7d3f-43c8-b51f-b7732ee58696",
   "metadata": {},
   "outputs": [],
   "source": [
    "import tensorflow as tf\n",
    "from tensorflow.keras.callbacks import Callback\n",
    "\n",
    "class LearningRateFinder(Callback):\n",
    "    def __init__(self, min_lr=1e-6, max_lr=1, steps=100):\n",
    "        self.min_lr = min_lr #valor mínimo de LR a probar.\n",
    "        self.max_lr = max_lr #valor máximo de LR a probar.\n",
    "        self.steps = steps #cantidad de batches donde se probarán LR crecientes.\n",
    "        # Cálculo del multiplicador para aumentar el LR en cada batch:\n",
    "        self.lr_mult = (max_lr / min_lr) ** (1 / steps)\n",
    "        # Para registrar el historial de tasas de aprendizaje y sus respectivas pérdidas:\n",
    "        self.history = {'lr': [], 'loss': []}\n",
    "        self.batch_count = 0\n",
    "\n",
    "    def on_train_batch_begin(self, batch, logs=None): # Este método se ejecuta antes de cada batch durante el entrenamiento.Ajusta el learning rate actual multiplicándolo progresivamente.\n",
    "        lr = self.min_lr * (self.lr_mult ** self.batch_count) # Calcula el LR actual\n",
    "        tf.keras.backend.set_value(self.model.optimizer.lr, lr) # Establece el LR al optimizador\n",
    "\n",
    "        self.history['lr'].append(lr) # Guarda el LR para graficarlo luego\n",
    "        self.batch_count += 1\n",
    "\n",
    "    def on_train_batch_end(self, batch, logs=None):#Este método se ejecuta después de cada batch. Guarda el valor de pérdida (loss) para ese batch.\n",
    "        loss = logs.get('loss')  # Obtiene la pérdida del batch\n",
    "        self.history['loss'].append(loss)  # Guarda la pérdida\n",
    "\n",
    "        print(f\"Batch {batch}: loss={loss}\")  # Muestra por consola el progreso\n"
   ]
  },
  {
   "cell_type": "code",
   "execution_count": 12,
   "id": "dce6a4e6-3463-4148-a10e-c895badec3f5",
   "metadata": {},
   "outputs": [
    {
     "name": "stdout",
     "output_type": "stream",
     "text": [
      "Batch 0: loss=1.0076004266738892\n",
      "Batch 1: loss=1.054870367050171........] - ETA: 25:28 - loss: 1.0076 - accuracy: 0.4688\n",
      "Batch 2: loss=0.9587225914001465.......] - ETA: 6:03 - loss: 1.0549 - accuracy: 0.4545 \n",
      "Batch 3: loss=0.9216176271438599.......] - ETA: 9:00 - loss: 0.9587 - accuracy: 0.5000\n",
      "Batch 4: loss=0.921674907207489........] - ETA: 9:59 - loss: 0.9216 - accuracy: 0.5370\n",
      "Batch 5: loss=0.9488654732704163.......] - ETA: 10:43 - loss: 0.9217 - accuracy: 0.5071\n",
      "Batch 6: loss=0.9520818591117859.......] - ETA: 10:56 - loss: 0.9489 - accuracy: 0.5116\n",
      "Batch 7: loss=0.9098135232925415.......] - ETA: 11:07 - loss: 0.9521 - accuracy: 0.5000\n",
      "Batch 8: loss=0.9041118621826172.......] - ETA: 11:14 - loss: 0.9098 - accuracy: 0.5212\n",
      "Batch 9: loss=0.9254227876663208.......] - ETA: 11:25 - loss: 0.9041 - accuracy: 0.5224\n",
      "Batch 10: loss=0.9193068146705627......] - ETA: 11:26 - loss: 0.9254 - accuracy: 0.5267\n",
      "Batch 11: loss=0.9068648219108582......] - ETA: 11:22 - loss: 0.9193 - accuracy: 0.5301\n",
      "Batch 12: loss=0.9011878371238708......] - ETA: 11:24 - loss: 0.9069 - accuracy: 0.5385\n",
      "Batch 13: loss=0.882254421710968.......] - ETA: 11:20 - loss: 0.9012 - accuracy: 0.5455\n",
      "Batch 14: loss=0.860776960849762.......] - ETA: 11:15 - loss: 0.8823 - accuracy: 0.5584\n",
      "Batch 15: loss=0.8704233169555664......] - ETA: 11:05 - loss: 0.8608 - accuracy: 0.5630\n",
      "Batch 16: loss=0.8589904308319092......] - ETA: 11:05 - loss: 0.8704 - accuracy: 0.5630\n",
      "Batch 17: loss=0.8372757434844971......] - ETA: 11:00 - loss: 0.8590 - accuracy: 0.5668\n",
      "Batch 18: loss=0.8322177529335022......] - ETA: 10:52 - loss: 0.8373 - accuracy: 0.5773\n",
      "Batch 19: loss=0.8089321851730347......] - ETA: 10:44 - loss: 0.8322 - accuracy: 0.5833\n",
      "Batch 20: loss=0.7859093546867371......] - ETA: 10:39 - loss: 0.8089 - accuracy: 0.5968\n",
      "Batch 21: loss=0.775082528591156.......] - ETA: 10:33 - loss: 0.7859 - accuracy: 0.6104\n",
      "Batch 22: loss=0.754340648651123.......] - ETA: 10:27 - loss: 0.7751 - accuracy: 0.6155\n",
      "Batch 23: loss=0.733561635017395.......] - ETA: 10:21 - loss: 0.7543 - accuracy: 0.6243\n",
      "Batch 24: loss=0.7135579586029053......] - ETA: 10:14 - loss: 0.7336 - accuracy: 0.6324\n",
      "Batch 25: loss=0.7024574279785156......] - ETA: 10:07 - loss: 0.7136 - accuracy: 0.6423\n",
      "Batch 26: loss=0.6947347521781921......] - ETA: 10:00 - loss: 0.7025 - accuracy: 0.6478\n",
      "Batch 27: loss=0.6977599263191223......] - ETA: 9:55 - loss: 0.6947 - accuracy: 0.6528 \n",
      "Batch 28: loss=0.6965916156768799......] - ETA: 9:47 - loss: 0.6978 - accuracy: 0.6553\n",
      "Batch 29: loss=0.680099368095398.......] - ETA: 9:40 - loss: 0.6966 - accuracy: 0.6586\n",
      "Batch 30: loss=0.664806604385376.......] - ETA: 9:33 - loss: 0.6801 - accuracy: 0.6660\n",
      "Batch 31: loss=0.6480830311775208......] - ETA: 9:26 - loss: 0.6648 - accuracy: 0.6739\n",
      "Batch 32: loss=0.6415548920631409......] - ETA: 9:18 - loss: 0.6481 - accuracy: 0.6813\n",
      "Batch 33: loss=0.627981960773468.......] - ETA: 9:11 - loss: 0.6416 - accuracy: 0.6853\n",
      "Batch 34: loss=0.6130748391151428......] - ETA: 9:03 - loss: 0.6280 - accuracy: 0.6919\n",
      "Batch 35: loss=0.6127288341522217......] - ETA: 8:56 - loss: 0.6131 - accuracy: 0.7000\n",
      "Batch 36: loss=0.6132271885871887......] - ETA: 8:49 - loss: 0.6127 - accuracy: 0.7032\n",
      "Batch 37: loss=0.6110183000564575......] - ETA: 8:41 - loss: 0.6132 - accuracy: 0.7062\n",
      "Batch 38: loss=0.6055623888969421......] - ETA: 8:33 - loss: 0.6110 - accuracy: 0.7074\n",
      "Batch 39: loss=0.6014758944511414......] - ETA: 8:27 - loss: 0.6056 - accuracy: 0.7117\n",
      "Batch 40: loss=0.5959257483482361......] - ETA: 8:24 - loss: 0.6015 - accuracy: 0.7167\n",
      "Batch 41: loss=0.5886196494102478......] - ETA: 8:16 - loss: 0.5959 - accuracy: 0.7198\n",
      "Batch 42: loss=0.5793808698654175......] - ETA: 8:08 - loss: 0.5886 - accuracy: 0.7243\n",
      "Batch 43: loss=0.5702252388000488......] - ETA: 8:00 - loss: 0.5794 - accuracy: 0.7286\n",
      "Batch 44: loss=0.5617126822471619......] - ETA: 7:52 - loss: 0.5702 - accuracy: 0.7334\n",
      "Batch 45: loss=0.5660206079483032......] - ETA: 7:43 - loss: 0.5617 - accuracy: 0.7380\n",
      "Batch 46: loss=0.5652085542678833......] - ETA: 7:35 - loss: 0.5660 - accuracy: 0.7390\n",
      "Batch 47: loss=0.560204029083252.......] - ETA: 7:28 - loss: 0.5652 - accuracy: 0.7406\n",
      "Batch 48: loss=0.5617232322692871......] - ETA: 7:21 - loss: 0.5602 - accuracy: 0.7434\n",
      "Batch 49: loss=0.5572841763496399......] - ETA: 7:13 - loss: 0.5617 - accuracy: 0.7448\n",
      "Batch 50: loss=0.5497947931289673......] - ETA: 7:05 - loss: 0.5573 - accuracy: 0.7481\n",
      "Batch 51: loss=0.5518118739128113......] - ETA: 6:57 - loss: 0.5498 - accuracy: 0.7512\n",
      "Batch 52: loss=0.5623367428779602......] - ETA: 6:48 - loss: 0.5518 - accuracy: 0.7530\n",
      "Batch 53: loss=0.5606525540351868......] - ETA: 6:39 - loss: 0.5623 - accuracy: 0.7530\n",
      "Batch 54: loss=0.5655635595321655......] - ETA: 6:31 - loss: 0.5607 - accuracy: 0.7547\n",
      "Batch 55: loss=0.558014452457428.......] - ETA: 6:24 - loss: 0.5656 - accuracy: 0.7563\n",
      "Batch 56: loss=0.5639234185218811......] - ETA: 6:15 - loss: 0.5580 - accuracy: 0.7602\n",
      "Batch 57: loss=0.5800011157989502......] - ETA: 6:07 - loss: 0.5639 - accuracy: 0.7611\n",
      "Batch 58: loss=0.6130632758140564......] - ETA: 5:59 - loss: 0.5800 - accuracy: 0.7614\n",
      "Batch 59: loss=0.6200084090232849......] - ETA: 5:50 - loss: 0.6131 - accuracy: 0.7612\n",
      "Batch 60: loss=0.6410224437713623......] - ETA: 5:42 - loss: 0.6200 - accuracy: 0.7632\n",
      "Batch 61: loss=0.6374790668487549......] - ETA: 5:33 - loss: 0.6410 - accuracy: 0.7629\n",
      "Batch 62: loss=0.7004360556602478......] - ETA: 5:25 - loss: 0.6375 - accuracy: 0.7637\n",
      "Batch 63: loss=0.7358688116073608......] - ETA: 5:17 - loss: 0.7004 - accuracy: 0.7610\n",
      "Batch 64: loss=0.7328079342842102......] - ETA: 5:08 - loss: 0.7359 - accuracy: 0.7594\n",
      "Batch 65: loss=0.7298546433448792......] - ETA: 5:00 - loss: 0.7328 - accuracy: 0.7597\n",
      "Batch 66: loss=0.7407337427139282......] - ETA: 4:51 - loss: 0.7299 - accuracy: 0.7600\n",
      "Batch 67: loss=0.7452113628387451......] - ETA: 4:43 - loss: 0.7407 - accuracy: 0.7585\n",
      "Batch 68: loss=0.7676485776901245......] - ETA: 4:34 - loss: 0.7452 - accuracy: 0.7579\n",
      "Batch 69: loss=0.7756311297416687......] - ETA: 4:25 - loss: 0.7676 - accuracy: 0.7564\n",
      "Batch 70: loss=0.7832583785057068......] - ETA: 4:17 - loss: 0.7756 - accuracy: 0.7550\n",
      "Batch 71: loss=0.8617550730705261......] - ETA: 4:09 - loss: 0.7833 - accuracy: 0.7544\n",
      "Batch 72: loss=0.9024088978767395......] - ETA: 4:00 - loss: 0.8618 - accuracy: 0.7522\n",
      "Batch 73: loss=1.0863945484161377......] - ETA: 3:52 - loss: 0.9024 - accuracy: 0.7517\n",
      "Batch 74: loss=1.1715070009231567......] - ETA: 3:44 - loss: 1.0864 - accuracy: 0.7517\n",
      "Batch 75: loss=1.3421684503555298......] - ETA: 3:35 - loss: 1.1715 - accuracy: 0.7521\n",
      "Batch 76: loss=1.3478572368621826......] - ETA: 3:26 - loss: 1.3422 - accuracy: 0.7517\n",
      "Batch 77: loss=1.3682481050491333......] - ETA: 3:18 - loss: 1.3479 - accuracy: 0.7504\n",
      "Batch 78: loss=1.4572926759719849......] - ETA: 3:09 - loss: 1.3682 - accuracy: 0.7496\n",
      "Batch 79: loss=1.47767972946167>.......] - ETA: 3:01 - loss: 1.4573 - accuracy: 0.7476\n",
      "Batch 80: loss=1.4816688299179077......] - ETA: 2:52 - loss: 1.4777 - accuracy: 0.7472\n",
      "Batch 81: loss=1.4703387022018433......] - ETA: 2:44 - loss: 1.4817 - accuracy: 0.7453\n",
      "Batch 82: loss=1.4602464437484741......] - ETA: 2:35 - loss: 1.4703 - accuracy: 0.7439\n",
      "Batch 83: loss=1.4528474807739258......] - ETA: 2:26 - loss: 1.4602 - accuracy: 0.7443\n",
      "Batch 84: loss=1.4488837718963623>.....] - ETA: 2:18 - loss: 1.4528 - accuracy: 0.7448\n",
      "Batch 85: loss=1.4387861490249634>.....] - ETA: 2:09 - loss: 1.4489 - accuracy: 0.7456\n",
      "Batch 86: loss=1.4494450092315674>.....] - ETA: 2:01 - loss: 1.4388 - accuracy: 0.7456\n",
      "Batch 87: loss=1.4898918867111206=>....] - ETA: 1:52 - loss: 1.4494 - accuracy: 0.7442\n",
      "Batch 88: loss=4.239004135131836==>....] - ETA: 1:43 - loss: 1.4899 - accuracy: 0.7432\n",
      "Batch 89: loss=4.197574615478516==>....] - ETA: 1:35 - loss: 4.2390 - accuracy: 0.7433\n",
      "Batch 90: loss=4.155936241149902===>...] - ETA: 1:26 - loss: 4.1976 - accuracy: 0.7441\n",
      "Batch 91: loss=4.663261413574219===>...] - ETA: 1:17 - loss: 4.1559 - accuracy: 0.7448\n",
      "Batch 92: loss=6.4886884689331055==>...] - ETA: 1:09 - loss: 4.6633 - accuracy: 0.7452\n",
      "Batch 93: loss=16.17505645751953===>...] - ETA: 1:00 - loss: 6.4887 - accuracy: 0.7405\n",
      "Batch 94: loss=33.256370544433594===>..] - ETA: 51s - loss: 16.1751 - accuracy: 0.7349\n",
      "Batch 95: loss=35.09602737426758====>..] - ETA: 43s - loss: 33.2564 - accuracy: 0.7344\n",
      "Batch 96: loss=38.827369689941406===>..] - ETA: 34s - loss: 35.0960 - accuracy: 0.7294\n",
      "Batch 97: loss=52.51469802856445=====>.] - ETA: 26s - loss: 38.8274 - accuracy: 0.7289\n",
      "Batch 98: loss=1034.0911865234375====>.] - ETA: 17s - loss: 52.5147 - accuracy: 0.7291\n",
      "Batch 99: loss=1081.1175537109375====>.] - ETA: 8s - loss: 1034.0912 - accuracy: 0.7243\n",
      "100/100 [==============================] - 874s 9s/step - loss: 1081.1176 - accuracy: 0.7248\n"
     ]
    },
    {
     "data": {
      "image/png": "[encoded data removed]",
      "text/plain": [
       "<Figure size 800x500 with 1 Axes>"
      ]
     },
     "metadata": {},
     "output_type": "display_data"
    }
   ],
   "source": [
    "# Sacamos un batch del generador\n",
    "X_batch, y_batch = next(train_generator)\n",
    "\n",
    "# Instanciamos el callback\n",
    "lr_finder = LearningRateFinder(min_lr=1e-6, max_lr=1, steps=100)\n",
    "\n",
    "# Recompilamos el modelo (para resetear el optimizador)\n",
    "model.compile(\n",
    "    optimizer='adam',\n",
    "    loss='binary_crossentropy',\n",
    "    metrics=['accuracy']\n",
    ")\n",
    "\n",
    "# Entrenamos con ese batch repetido para probar distintos learning rates\n",
    "model.fit(\n",
    "    train_generator,    # Generador, no datos fijos\n",
    "    steps_per_epoch=100,\n",
    "    epochs=1,\n",
    "    callbacks=[lr_finder],\n",
    "    verbose=1\n",
    ")\n",
    "\n",
    "import matplotlib.pyplot as plt\n",
    "\n",
    "plt.figure(figsize=(8, 5))\n",
    "plt.plot(lr_finder.history['lr'], lr_finder.history['loss'])\n",
    "plt.xscale('log')\n",
    "plt.xlabel(\"Learning Rate (escala logarítmica)\")\n",
    "plt.ylabel(\"Pérdida (Loss)\")\n",
    "plt.title(\"Buscando el Learning Rate Óptimo\")\n",
    "plt.grid(True)\n",
    "plt.show()\n"
   ]
  },
  {
   "cell_type": "code",
   "execution_count": 13,
   "id": "14e28869-a351-4443-9e6d-2b46a187632d",
   "metadata": {},
   "outputs": [],
   "source": [
    "#Prueba de punto óptimo 1: 0.001 \n",
    "#prueba 2: 0.03\n",
    "#prueba 3: 0.003\n",
    "#Estabecer el LR óptimo en tu optimizador:\n",
    "\n",
    "from tensorflow.keras.optimizers import Adam\n",
    "\n",
    "optimal_lr = 0.003  # o prueba con 0.01 para ver si mejora\n",
    "optimizer = Adam(learning_rate=optimal_lr)\n",
    "\n",
    "model.compile(\n",
    "    optimizer=optimizer,\n",
    "    loss='binary_crossentropy',  # ← cambio necesario para clasificación binaria\n",
    "    metrics=['accuracy']\n",
    ")\n"
   ]
  },
  {
   "cell_type": "markdown",
   "id": "ae277f8c-dcd1-472e-b023-150bc3ee67f8",
   "metadata": {},
   "source": [
    "| Paso siguiente:    | Acción principal                             |\n",
    "| ------------------ | -------------------------------------------- |\n",
    "| Entrenamiento      | Con el LR óptimo que encontraste             |\n",
    "| Guardar modelo     | `model.save('modelo.h5')`                    |\n",
    "| Cargar modelo      | `load_model('modelo.h5')`                    |\n",
    "| Evaluar modelo     | Usando `evaluate()` en el conjunto de prueba |\n",
    "| Hacer predicciones | Con `predict()` sobre nuevas imágenes        |\n"
   ]
  },
  {
   "cell_type": "code",
   "execution_count": 14,
   "id": "d62eb64c-8e13-4600-9488-fc71163fe7cc",
   "metadata": {},
   "outputs": [
    {
     "name": "stdout",
     "output_type": "stream",
     "text": [
      "Epoch 1/15\n",
      "131/131 [==============================] - 1252s 10s/step - loss: 68833.1016 - accuracy: 0.5769 - val_loss: 40046.8789 - val_accuracy: 0.4481\n",
      "Epoch 2/15\n",
      "131/131 [==============================] - 1255s 10s/step - loss: 2950.7283 - accuracy: 0.7476 - val_loss: 9236.3184 - val_accuracy: 0.3981\n",
      "Epoch 3/15\n",
      "131/131 [==============================] - 1248s 10s/step - loss: 1878.3239 - accuracy: 0.7807 - val_loss: 11327.6680 - val_accuracy: 0.2972\n",
      "Epoch 4/15\n",
      "131/131 [==============================] - 1295s 10s/step - loss: 1372.9342 - accuracy: 0.8147 - val_loss: 1039.5632 - val_accuracy: 0.7811\n",
      "Epoch 5/15\n",
      "131/131 [==============================] - 1232s 9s/step - loss: 1329.7247 - accuracy: 0.8171 - val_loss: 2683.0688 - val_accuracy: 0.5642\n",
      "Epoch 6/15\n",
      "131/131 [==============================] - 1250s 10s/step - loss: 1020.4980 - accuracy: 0.8440 - val_loss: 1151.7854 - val_accuracy: 0.8755\n",
      "Epoch 7/15\n",
      "131/131 [==============================] - 1295s 10s/step - loss: 1075.7576 - accuracy: 0.8387 - val_loss: 2211.4939 - val_accuracy: 0.7915\n",
      "Epoch 8/15\n",
      "131/131 [==============================] - 1284s 10s/step - loss: 1046.4717 - accuracy: 0.8483 - val_loss: 5072.7280 - val_accuracy: 0.5792\n",
      "Epoch 9/15\n",
      "131/131 [==============================] - 1286s 10s/step - loss: 1017.0681 - accuracy: 0.8581 - val_loss: 5369.9478 - val_accuracy: 0.6934\n",
      "Epoch 10/15\n",
      "131/131 [==============================] - 1278s 10s/step - loss: 945.7263 - accuracy: 0.8557 - val_loss: 4176.7432 - val_accuracy: 0.8972\n",
      "Epoch 11/15\n",
      "131/131 [==============================] - 1284s 10s/step - loss: 941.5994 - accuracy: 0.8564 - val_loss: 13032.9336 - val_accuracy: 0.7623\n",
      "Epoch 12/15\n",
      "131/131 [==============================] - 1233s 9s/step - loss: 988.2006 - accuracy: 0.8564 - val_loss: 12510.1123 - val_accuracy: 0.8330\n",
      "Epoch 13/15\n",
      "131/131 [==============================] - 1246s 9s/step - loss: 938.1378 - accuracy: 0.8535 - val_loss: 31237.9609 - val_accuracy: 0.8547\n",
      "Epoch 14/15\n",
      "131/131 [==============================] - 1302s 10s/step - loss: 865.9366 - accuracy: 0.8739 - val_loss: 141025.7812 - val_accuracy: 0.6717\n",
      "Epoch 15/15\n",
      "131/131 [==============================] - 1282s 10s/step - loss: 711.7573 - accuracy: 0.8804 - val_loss: 183165.5000 - val_accuracy: 0.8594\n"
     ]
    },
    {
     "data": {
      "text/plain": [
       "<keras.callbacks.History at 0x7884dd41fa00>"
      ]
     },
     "execution_count": 14,
     "metadata": {},
     "output_type": "execute_result"
    }
   ],
   "source": [
    "#Entrenar el modelo completo ahora con ese LR\n",
    "model.fit(\n",
    "    train_generator,\n",
    "    steps_per_epoch=len(train_generator),\n",
    "    epochs=15,  # las vueltas que les da.\n",
    "    validation_data=val_generator,\n",
    "    validation_steps=len(val_generator),\n",
    "    verbose=1\n",
    ")\n",
    "#Esos valores indican cómo se está desempeñando el modelo en datos de validación\n",
    "#(no vistos durante el entrenamiento), lo que te ayuda a saber si se está sobreajustando o no."
   ]
  },
  {
   "cell_type": "code",
   "execution_count": 15,
   "id": "0be2a396-fb09-471d-ab65-12649fa03b05",
   "metadata": {},
   "outputs": [],
   "source": [
    "# Guardar el modelo completo para no tener que volver a entrenar cada vez:  (arquitectura + pesos + configuración)\n",
    "model.save('modelo_neumonia.h5')\n"
   ]
  },
  {
   "cell_type": "code",
   "execution_count": 16,
   "id": "c1ba74db-96e2-4ec7-ae4d-2a97751e9052",
   "metadata": {},
   "outputs": [],
   "source": [
    "#Cargar el modelo guardado (cuando lo necesite para predecir o evaluars)\n",
    "from tensorflow.keras.models import load_model\n",
    "\n",
    "modelo_cargado = load_model('modelo_neumonia.h5')\n"
   ]
  },
  {
   "cell_type": "markdown",
   "id": "c8e0ffd8-58fc-414b-bafc-2dd22430133d",
   "metadata": {},
   "source": [
    "#### Evaluar el modelo con el conjunto de prueba\n"
   ]
  },
  {
   "cell_type": "code",
   "execution_count": 17,
   "id": "cd726530-fab0-4d90-baf9-e1bb324af477",
   "metadata": {},
   "outputs": [
    {
     "name": "stdout",
     "output_type": "stream",
     "text": [
      "Found 624 images belonging to 2 classes.\n",
      "20/20 [==============================] - 52s 2s/step - loss: 90970.0781 - accuracy: 0.5000\n",
      "🔍 Precisión en el conjunto de prueba: 0.50\n"
     ]
    }
   ],
   "source": [
    "test_datagen = ImageDataGenerator(rescale=1./255)\n",
    "\n",
    "test_generator = test_datagen.flow_from_directory(\n",
    "    '/home/variante/ProyectosPython/Proyecto_Neumonia/data/chest_xray/test',\n",
    "    target_size=(224, 224),\n",
    "    batch_size=32,\n",
    "    class_mode='categorical',\n",
    "    shuffle=False\n",
    ")\n",
    "\n",
    "loss, accuracy = modelo_cargado.evaluate(test_generator)\n",
    "print(f'🔍 Precisión en el conjunto de prueba: {accuracy:.2f}')"
   ]
  },
  {
   "cell_type": "markdown",
   "id": "abe7fd84-2cf9-442e-8631-e3dc40bbdb71",
   "metadata": {},
   "source": [
    "#### Hacer predicciones\n",
    "Para obtener la clase predicha en nuevas imágenes:"
   ]
  },
  {
   "cell_type": "code",
   "execution_count": 21,
   "id": "d0b049d3-08c0-42a6-b24e-f0addde75c16",
   "metadata": {},
   "outputs": [
    {
     "name": "stdout",
     "output_type": "stream",
     "text": [
      "1/1 [==============================] - 1s 957ms/step\n",
      "Predicción: NORMAL\n",
      "Clases del generador: {'NORMAL': 0, 'PNEUMONIA': 1}\n",
      "34/34 [==============================] - 90s 3s/step\n",
      "Clasificación completa:\n"
     ]
    },
    {
     "name": "stderr",
     "output_type": "stream",
     "text": [
      "/home/variante/miniconda3/envs/tf_keras/lib/python3.9/site-packages/sklearn/metrics/_classification.py:1565: UndefinedMetricWarning: Precision is ill-defined and being set to 0.0 in labels with no predicted samples. Use `zero_division` parameter to control this behavior.\n",
      "  _warn_prf(average, modifier, f\"{metric.capitalize()} is\", len(result))\n",
      "/home/variante/miniconda3/envs/tf_keras/lib/python3.9/site-packages/sklearn/metrics/_classification.py:1565: UndefinedMetricWarning: Precision is ill-defined and being set to 0.0 in labels with no predicted samples. Use `zero_division` parameter to control this behavior.\n",
      "  _warn_prf(average, modifier, f\"{metric.capitalize()} is\", len(result))\n",
      "/home/variante/miniconda3/envs/tf_keras/lib/python3.9/site-packages/sklearn/metrics/_classification.py:1565: UndefinedMetricWarning: Precision is ill-defined and being set to 0.0 in labels with no predicted samples. Use `zero_division` parameter to control this behavior.\n",
      "  _warn_prf(average, modifier, f\"{metric.capitalize()} is\", len(result))\n"
     ]
    },
    {
     "name": "stdout",
     "output_type": "stream",
     "text": [
      "              precision    recall  f1-score   support\n",
      "\n",
      "      NORMAL       0.26      1.00      0.41       277\n",
      "   PNEUMONIA       0.00      0.00      0.00       783\n",
      "\n",
      "    accuracy                           0.26      1060\n",
      "   macro avg       0.13      0.50      0.21      1060\n",
      "weighted avg       0.07      0.26      0.11      1060\n",
      "\n"
     ]
    },
    {
     "data": {
      "image/png": "[encoded data removed]",
      "text/plain": [
       "<Figure size 600x600 with 1 Axes>"
      ]
     },
     "metadata": {},
     "output_type": "display_data"
    }
   ],
   "source": [
    "# Predicción de una imagen nueva\n",
    "img = load_img('/home/variante/ProyectosPython/Proyecto_Neumonia/data/chest_xray/test/PNEUMONIA/person102_bacteria_487.jpeg', target_size=(img_width, img_height))\n",
    "img_array = img_to_array(img) / 255.0\n",
    "img_array = np.expand_dims(img_array, axis=0)\n",
    "prediction = model.predict(img_array)\n",
    "predicted_class = np.argmax(prediction)\n",
    "predicted_label = list(val_generator.class_indices.keys())[predicted_class]\n",
    "print(f\"Predicción: {predicted_label}\")\n",
    "\n",
    "# Verificar clases del generador\n",
    "print(\"Clases del generador:\", val_generator.class_indices)\n",
    "\n",
    "# Evaluación detallada\n",
    "y_pred = np.argmax(model.predict(val_generator), axis=1)\n",
    "y_true = val_generator.classes\n",
    "\n",
    "print(\"Clasificación completa:\")\n",
    "class_names = [label for label, _ in sorted(val_generator.class_indices.items(), key=lambda x: x[1])]\n",
    "print(classification_report(y_true, y_pred, target_names=class_names))\n",
    "\n",
    "# Matriz de confusión\n",
    "conf_matrix = confusion_matrix(y_true, y_pred)\n",
    "plt.figure(figsize=(6, 6))\n",
    "plt.imshow(conf_matrix, cmap='Blues')\n",
    "plt.title('Matriz de Confusión')\n",
    "plt.xlabel('Predicción')\n",
    "plt.ylabel('Etiqueta Verdadera')\n",
    "plt.show()\n"
   ]
  },
  {
   "cell_type": "code",
   "execution_count": null,
   "id": "e33b1545-d6ab-46d6-ae4f-d1effd42aace",
   "metadata": {},
   "outputs": [],
   "source": []
  }
 ],
 "metadata": {
  "kernelspec": {
   "display_name": "Python 3 (ipykernel)",
   "language": "python",
   "name": "python3"
  },
  "language_info": {
   "codemirror_mode": {
    "name": "ipython",
    "version": 3
   },
   "file_extension": ".py",
   "mimetype": "text/x-python",
   "name": "python",
   "nbconvert_exporter": "python",
   "pygments_lexer": "ipython3",
   "version": "3.9.18"
  }
 },
 "nbformat": 4,
 "nbformat_minor": 5
}
